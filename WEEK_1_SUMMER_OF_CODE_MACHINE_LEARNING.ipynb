{
  "nbformat": 4,
  "nbformat_minor": 0,
  "metadata": {
    "colab": {
      "provenance": []
    },
    "kernelspec": {
      "name": "python3",
      "display_name": "Python 3"
    },
    "language_info": {
      "name": "python"
    }
  },
  "cells": [
    {
      "cell_type": "markdown",
      "source": [
        "# **LOADING** **DATASET**"
      ],
      "metadata": {
        "id": "-YjU3FqIGbIQ"
      }
    },
    {
      "cell_type": "code",
      "execution_count": 209,
      "metadata": {
        "id": "ACNkoaTMCFAV"
      },
      "outputs": [],
      "source": [
        "import numpy as np\n",
        "import pandas as pd\n",
        "import matplotlib.pyplot as plt\n",
        "import seaborn as sns\n",
        "\n",
        "dataset = pd.read_csv('Merged_File.csv')"
      ]
    },
    {
      "cell_type": "markdown",
      "source": [
        "# **DATA PREPROCESSING**"
      ],
      "metadata": {
        "id": "3HCpgyMIGrx5"
      }
    },
    {
      "cell_type": "markdown",
      "source": [
        "## 1.Exploratory Data Analysis\n",
        "\n"
      ],
      "metadata": {
        "id": "QihpfEcMIAoY"
      }
    },
    {
      "cell_type": "code",
      "source": [
        "print(dataset.info())\n",
        "print()\n",
        "print(dataset.describe())\n",
        "print()\n",
        "print(dataset.isnull().sum())\n",
        "print()\n",
        "print(dataset.duplicated().sum())\n",
        "print()\n",
        "print(dataset.head())\n",
        "print()\n",
        "#No duplicates or null values to remove"
      ],
      "metadata": {
        "colab": {
          "base_uri": "https://localhost:8080/"
        },
        "id": "aTquFv8uGY9x",
        "outputId": "8e568ee0-61cf-45c0-f5ff-b398beaa96d9"
      },
      "execution_count": 210,
      "outputs": [
        {
          "output_type": "stream",
          "name": "stdout",
          "text": [
            "<class 'pandas.core.frame.DataFrame'>\n",
            "RangeIndex: 1000 entries, 0 to 999\n",
            "Data columns (total 18 columns):\n",
            " #   Column             Non-Null Count  Dtype  \n",
            "---  ------             --------------  -----  \n",
            " 0   Unnamed: 0         1000 non-null   int64  \n",
            " 1   CustomerID         1000 non-null   int64  \n",
            " 2   AccountBalance     1000 non-null   float64\n",
            " 3   LastLogin          1000 non-null   object \n",
            " 4   Name               1000 non-null   object \n",
            " 5   Age                1000 non-null   int64  \n",
            " 6   Address            1000 non-null   object \n",
            " 7   SuspiciousFlag     1000 non-null   int64  \n",
            " 8   TransactionID      1000 non-null   int64  \n",
            " 9   Amount             1000 non-null   float64\n",
            " 10  AnomalyScore       1000 non-null   float64\n",
            " 11  TransactionAmount  1000 non-null   float64\n",
            " 12  FraudIndicator     1000 non-null   int64  \n",
            " 13  Category           1000 non-null   object \n",
            " 14  Timestamp          1000 non-null   object \n",
            " 15  MerchantID         1000 non-null   int64  \n",
            " 16  MerchantName       1000 non-null   object \n",
            " 17  Location           1000 non-null   object \n",
            "dtypes: float64(4), int64(7), object(7)\n",
            "memory usage: 140.8+ KB\n",
            "None\n",
            "\n",
            "        Unnamed: 0   CustomerID  AccountBalance          Age  SuspiciousFlag  \\\n",
            "count  1000.000000  1000.000000     1000.000000  1000.000000     1000.000000   \n",
            "mean    499.500000  1496.626000     5715.455931    39.848000        0.025000   \n",
            "std     288.819436   289.229047     2540.517262    13.074932        0.156203   \n",
            "min       0.000000  1001.000000     1056.301181    18.000000        0.000000   \n",
            "25%     249.750000  1239.000000     3489.554711    29.000000        0.000000   \n",
            "50%     499.500000  1501.000000     5753.007775    39.000000        0.000000   \n",
            "75%     749.250000  1739.250000     7925.710167    51.000000        0.000000   \n",
            "max     999.000000  2000.000000     9999.776239    64.000000        1.000000   \n",
            "\n",
            "       TransactionID       Amount  AnomalyScore  TransactionAmount  \\\n",
            "count    1000.000000  1000.000000   1000.000000        1000.000000   \n",
            "mean      500.500000    55.394871      0.492282          55.853826   \n",
            "std       288.819436    25.070809      0.288423          26.093606   \n",
            "min         1.000000    10.006933      0.000234          10.057864   \n",
            "25%       250.750000    34.502315      0.251802          33.875129   \n",
            "50%       500.500000    57.844325      0.490242          55.958313   \n",
            "75%       750.250000    75.858576      0.741888          77.589391   \n",
            "max      1000.000000    99.887410      0.999047          99.784323   \n",
            "\n",
            "       FraudIndicator   MerchantID  \n",
            "count     1000.000000  1000.000000  \n",
            "mean         0.045000  2504.701000  \n",
            "std          0.207408   288.414883  \n",
            "min          0.000000  2001.000000  \n",
            "25%          0.000000  2254.500000  \n",
            "50%          0.000000  2500.500000  \n",
            "75%          0.000000  2761.250000  \n",
            "max          1.000000  3000.000000  \n",
            "\n",
            "Unnamed: 0           0\n",
            "CustomerID           0\n",
            "AccountBalance       0\n",
            "LastLogin            0\n",
            "Name                 0\n",
            "Age                  0\n",
            "Address              0\n",
            "SuspiciousFlag       0\n",
            "TransactionID        0\n",
            "Amount               0\n",
            "AnomalyScore         0\n",
            "TransactionAmount    0\n",
            "FraudIndicator       0\n",
            "Category             0\n",
            "Timestamp            0\n",
            "MerchantID           0\n",
            "MerchantName         0\n",
            "Location             0\n",
            "dtype: int64\n",
            "\n",
            "0\n",
            "\n",
            "   Unnamed: 0  CustomerID  AccountBalance   LastLogin           Name  Age  \\\n",
            "0           0        1001     9507.272060  2022-01-01  Customer 1001   54   \n",
            "1           1        1003     1715.321989  2022-01-03  Customer 1003   40   \n",
            "2           2        1004     3101.509134  2022-01-04  Customer 1004   30   \n",
            "3           3        1004     3101.509134  2022-01-04  Customer 1004   30   \n",
            "4           4        1005     5405.766914  2022-01-05  Customer 1005   46   \n",
            "\n",
            "        Address  SuspiciousFlag  TransactionID     Amount  AnomalyScore  \\\n",
            "0  Address 1001               0            787  33.670626      0.030921   \n",
            "1  Address 1003               0            641  30.980239      0.961552   \n",
            "2  Address 1004               0            450  11.167088      0.525809   \n",
            "3  Address 1004               0            921  45.849784      0.652188   \n",
            "4  Address 1005               0            599  81.808651      0.661493   \n",
            "\n",
            "   TransactionAmount  FraudIndicator Category            Timestamp  \\\n",
            "0          87.375444               0     Food  2022-02-02 18:00:00   \n",
            "1          46.044172               0   Travel  2022-01-27 16:00:00   \n",
            "2          85.085061               0    Other  2022-01-19 17:00:00   \n",
            "3          36.534720               0    Other  2022-02-08 08:00:00   \n",
            "4          82.852025               0    Other  2022-01-25 22:00:00   \n",
            "\n",
            "   MerchantID   MerchantName       Location  \n",
            "0        2627  Merchant 2627  Location 2627  \n",
            "1        2496  Merchant 2496  Location 2496  \n",
            "2        2184  Merchant 2184  Location 2184  \n",
            "3        2111  Merchant 2111  Location 2111  \n",
            "4        2191  Merchant 2191  Location 2191  \n",
            "\n"
          ]
        }
      ]
    },
    {
      "cell_type": "markdown",
      "source": [
        "## 2.Handling Outliers\n",
        "\n"
      ],
      "metadata": {
        "id": "DaEvBcDHJ12H"
      }
    },
    {
      "cell_type": "code",
      "source": [
        "print(dataset.info())\n",
        "dataset.drop(\"Unnamed: 0\",axis = 1,inplace = True)\n",
        "print(dataset.info())\n",
        "sns.boxplot(y = \"AccountBalance\",data = dataset)\n",
        "plt.show()\n",
        "sns.boxplot(y = \"Amount\",data = dataset)\n",
        "plt.show()\n",
        "sns.boxplot(y = \"AnomalyScore\",data = dataset)\n",
        "plt.show()\n",
        "sns.boxplot(y = \"TransactionAmount\",data = dataset)\n",
        "plt.show()\n",
        "#No outliers"
      ],
      "metadata": {
        "colab": {
          "base_uri": "https://localhost:8080/",
          "height": 0
        },
        "id": "AREuEo4qJ__z",
        "outputId": "f2132f10-3f6a-4a71-c444-463970fa9cf8"
      },
      "execution_count": 211,
      "outputs": [
        {
          "output_type": "stream",
          "name": "stdout",
          "text": [
            "<class 'pandas.core.frame.DataFrame'>\n",
            "RangeIndex: 1000 entries, 0 to 999\n",
            "Data columns (total 18 columns):\n",
            " #   Column             Non-Null Count  Dtype  \n",
            "---  ------             --------------  -----  \n",
            " 0   Unnamed: 0         1000 non-null   int64  \n",
            " 1   CustomerID         1000 non-null   int64  \n",
            " 2   AccountBalance     1000 non-null   float64\n",
            " 3   LastLogin          1000 non-null   object \n",
            " 4   Name               1000 non-null   object \n",
            " 5   Age                1000 non-null   int64  \n",
            " 6   Address            1000 non-null   object \n",
            " 7   SuspiciousFlag     1000 non-null   int64  \n",
            " 8   TransactionID      1000 non-null   int64  \n",
            " 9   Amount             1000 non-null   float64\n",
            " 10  AnomalyScore       1000 non-null   float64\n",
            " 11  TransactionAmount  1000 non-null   float64\n",
            " 12  FraudIndicator     1000 non-null   int64  \n",
            " 13  Category           1000 non-null   object \n",
            " 14  Timestamp          1000 non-null   object \n",
            " 15  MerchantID         1000 non-null   int64  \n",
            " 16  MerchantName       1000 non-null   object \n",
            " 17  Location           1000 non-null   object \n",
            "dtypes: float64(4), int64(7), object(7)\n",
            "memory usage: 140.8+ KB\n",
            "None\n",
            "<class 'pandas.core.frame.DataFrame'>\n",
            "RangeIndex: 1000 entries, 0 to 999\n",
            "Data columns (total 17 columns):\n",
            " #   Column             Non-Null Count  Dtype  \n",
            "---  ------             --------------  -----  \n",
            " 0   CustomerID         1000 non-null   int64  \n",
            " 1   AccountBalance     1000 non-null   float64\n",
            " 2   LastLogin          1000 non-null   object \n",
            " 3   Name               1000 non-null   object \n",
            " 4   Age                1000 non-null   int64  \n",
            " 5   Address            1000 non-null   object \n",
            " 6   SuspiciousFlag     1000 non-null   int64  \n",
            " 7   TransactionID      1000 non-null   int64  \n",
            " 8   Amount             1000 non-null   float64\n",
            " 9   AnomalyScore       1000 non-null   float64\n",
            " 10  TransactionAmount  1000 non-null   float64\n",
            " 11  FraudIndicator     1000 non-null   int64  \n",
            " 12  Category           1000 non-null   object \n",
            " 13  Timestamp          1000 non-null   object \n",
            " 14  MerchantID         1000 non-null   int64  \n",
            " 15  MerchantName       1000 non-null   object \n",
            " 16  Location           1000 non-null   object \n",
            "dtypes: float64(4), int64(6), object(7)\n",
            "memory usage: 132.9+ KB\n",
            "None\n"
          ]
        },
        {
          "output_type": "display_data",
          "data": {
            "text/plain": [
              "<Figure size 640x480 with 1 Axes>"
            ],
            "image/png": "[encoded data removed]"
          },
          "metadata": {}
        },
        {
          "output_type": "display_data",
          "data": {
            "text/plain": [
              "<Figure size 640x480 with 1 Axes>"
            ],
            "image/png": "[encoded data removed]"
          },
          "metadata": {}
        },
        {
          "output_type": "display_data",
          "data": {
            "text/plain": [
              "<Figure size 640x480 with 1 Axes>"
            ],
            "image/png": "[encoded data removed]"
          },
          "metadata": {}
        },
        {
          "output_type": "display_data",
          "data": {
            "text/plain": [
              "<Figure size 640x480 with 1 Axes>"
            ],
            "image/png": "[encoded data removed]"
          },
          "metadata": {}
        }
      ]
    },
    {
      "cell_type": "markdown",
      "source": [
        "## 3.Dropping Columns"
      ],
      "metadata": {
        "id": "xYyEsLYefoaR"
      }
    },
    {
      "cell_type": "code",
      "source": [
        "dataset.drop([\"TransactionID\" , \"CustomerID\", \"MerchantID\",\"Name\",\"Location\",\"MerchantName\",\"Address\"],axis = 1,inplace = True)\n",
        "dataset.info()"
      ],
      "metadata": {
        "colab": {
          "base_uri": "https://localhost:8080/"
        },
        "id": "AOaBkw7qQkHZ",
        "outputId": "9fe97236-458a-4474-f4eb-ded405ce9d07"
      },
      "execution_count": 212,
      "outputs": [
        {
          "output_type": "stream",
          "name": "stdout",
          "text": [
            "<class 'pandas.core.frame.DataFrame'>\n",
            "RangeIndex: 1000 entries, 0 to 999\n",
            "Data columns (total 10 columns):\n",
            " #   Column             Non-Null Count  Dtype  \n",
            "---  ------             --------------  -----  \n",
            " 0   AccountBalance     1000 non-null   float64\n",
            " 1   LastLogin          1000 non-null   object \n",
            " 2   Age                1000 non-null   int64  \n",
            " 3   SuspiciousFlag     1000 non-null   int64  \n",
            " 4   Amount             1000 non-null   float64\n",
            " 5   AnomalyScore       1000 non-null   float64\n",
            " 6   TransactionAmount  1000 non-null   float64\n",
            " 7   FraudIndicator     1000 non-null   int64  \n",
            " 8   Category           1000 non-null   object \n",
            " 9   Timestamp          1000 non-null   object \n",
            "dtypes: float64(4), int64(3), object(3)\n",
            "memory usage: 78.2+ KB\n"
          ]
        }
      ]
    },
    {
      "cell_type": "markdown",
      "source": [
        "# **ADDRESS CLASS IMBALANCE**\n",
        "\n"
      ],
      "metadata": {
        "id": "l55z3XI4tAs4"
      }
    },
    {
      "cell_type": "markdown",
      "source": [
        "### 1.Check for Imbalance in Dataset"
      ],
      "metadata": {
        "id": "S2XXz1ZMO11L"
      }
    },
    {
      "cell_type": "code",
      "source": [
        "dataset[\"FraudIndicator\"].value_counts()\n",
        "#High Imbalance in dataset, only 4.5% cases are frauds"
      ],
      "metadata": {
        "colab": {
          "base_uri": "https://localhost:8080/",
          "height": 0
        },
        "id": "FWcNH4BmOXqn",
        "outputId": "5d87af9e-eb7b-48e5-d1e9-58a4df6f793e"
      },
      "execution_count": 213,
      "outputs": [
        {
          "output_type": "execute_result",
          "data": {
            "text/plain": [
              "FraudIndicator\n",
              "0    955\n",
              "1     45\n",
              "Name: count, dtype: int64"
            ],
            "text/html": [
              "<div>\n",
              "<style scoped>\n",
              "    .dataframe tbody tr th:only-of-type {\n",
              "        vertical-align: middle;\n",
              "    }\n",
              "\n",
              "    .dataframe tbody tr th {\n",
              "        vertical-align: top;\n",
              "    }\n",
              "\n",
              "    .dataframe thead th {\n",
              "        text-align: right;\n",
              "    }\n",
              "</style>\n",
              "<table border=\"1\" class=\"dataframe\">\n",
              "  <thead>\n",
              "    <tr style=\"text-align: right;\">\n",
              "      <th></th>\n",
              "      <th>count</th>\n",
              "    </tr>\n",
              "    <tr>\n",
              "      <th>FraudIndicator</th>\n",
              "      <th></th>\n",
              "    </tr>\n",
              "  </thead>\n",
              "  <tbody>\n",
              "    <tr>\n",
              "      <th>0</th>\n",
              "      <td>955</td>\n",
              "    </tr>\n",
              "    <tr>\n",
              "      <th>1</th>\n",
              "      <td>45</td>\n",
              "    </tr>\n",
              "  </tbody>\n",
              "</table>\n",
              "</div><br><label><b>dtype:</b> int64</label>"
            ]
          },
          "metadata": {},
          "execution_count": 213
        }
      ]
    },
    {
      "cell_type": "markdown",
      "source": [
        "\n",
        "\n",
        "## 2.Finding out the discrepancies in data\n",
        "\n"
      ],
      "metadata": {
        "id": "VIVl4aS1MECE"
      }
    },
    {
      "cell_type": "code",
      "source": [
        "legit = dataset[dataset.FraudIndicator == 0]\n",
        "fraud = dataset[dataset.FraudIndicator == 1]"
      ],
      "metadata": {
        "id": "4NG2AgpFtP6O"
      },
      "execution_count": 214,
      "outputs": []
    },
    {
      "cell_type": "code",
      "source": [
        "legit.describe()"
      ],
      "metadata": {
        "colab": {
          "base_uri": "https://localhost:8080/",
          "height": 0
        },
        "id": "pMS-R2fEBVxs",
        "outputId": "40e79702-4cd5-46ee-f241-0d350a05b5cb"
      },
      "execution_count": 215,
      "outputs": [
        {
          "output_type": "execute_result",
          "data": {
            "text/plain": [
              "       AccountBalance         Age  SuspiciousFlag      Amount  AnomalyScore  \\\n",
              "count      955.000000  955.000000      955.000000  955.000000    955.000000   \n",
              "mean      5717.875984   39.908901        0.023037   55.315317      0.495298   \n",
              "std       2544.038509   13.058451        0.150098   25.000374      0.287489   \n",
              "min       1069.843868   18.000000        0.000000   10.006933      0.000234   \n",
              "25%       3454.648531   29.000000        0.000000   34.343356      0.257657   \n",
              "50%       5765.640647   39.000000        0.000000   57.456224      0.492191   \n",
              "75%       7923.417551   51.000000        0.000000   75.867802      0.744149   \n",
              "max       9999.776239   64.000000        1.000000   99.887410      0.999047   \n",
              "\n",
              "       TransactionAmount  FraudIndicator  \n",
              "count         955.000000           955.0  \n",
              "mean           56.043235             0.0  \n",
              "std            26.143409             0.0  \n",
              "min            10.057864             0.0  \n",
              "25%            33.881084             0.0  \n",
              "50%            56.253886             0.0  \n",
              "75%            77.805093             0.0  \n",
              "max            99.784323             0.0  "
            ],
            "text/html": [
              "\n",
              "  <div id=\"df-e4f3c963-03d9-49fc-9e94-dccfbdd61c67\" class=\"colab-df-container\">\n",
              "    <div>\n",
              "<style scoped>\n",
              "    .dataframe tbody tr th:only-of-type {\n",
              "        vertical-align: middle;\n",
              "    }\n",
              "\n",
              "    .dataframe tbody tr th {\n",
              "        vertical-align: top;\n",
              "    }\n",
              "\n",
              "    .dataframe thead th {\n",
              "        text-align: right;\n",
              "    }\n",
              "</style>\n",
              "<table border=\"1\" class=\"dataframe\">\n",
              "  <thead>\n",
              "    <tr style=\"text-align: right;\">\n",
              "      <th></th>\n",
              "      <th>AccountBalance</th>\n",
              "      <th>Age</th>\n",
              "      <th>SuspiciousFlag</th>\n",
              "      <th>Amount</th>\n",
              "      <th>AnomalyScore</th>\n",
              "      <th>TransactionAmount</th>\n",
              "      <th>FraudIndicator</th>\n",
              "    </tr>\n",
              "  </thead>\n",
              "  <tbody>\n",
              "    <tr>\n",
              "      <th>count</th>\n",
              "      <td>955.000000</td>\n",
              "      <td>955.000000</td>\n",
              "      <td>955.000000</td>\n",
              "      <td>955.000000</td>\n",
              "      <td>955.000000</td>\n",
              "      <td>955.000000</td>\n",
              "      <td>955.0</td>\n",
              "    </tr>\n",
              "    <tr>\n",
              "      <th>mean</th>\n",
              "      <td>5717.875984</td>\n",
              "      <td>39.908901</td>\n",
              "      <td>0.023037</td>\n",
              "      <td>55.315317</td>\n",
              "      <td>0.495298</td>\n",
              "      <td>56.043235</td>\n",
              "      <td>0.0</td>\n",
              "    </tr>\n",
              "    <tr>\n",
              "      <th>std</th>\n",
              "      <td>2544.038509</td>\n",
              "      <td>13.058451</td>\n",
              "      <td>0.150098</td>\n",
              "      <td>25.000374</td>\n",
              "      <td>0.287489</td>\n",
              "      <td>26.143409</td>\n",
              "      <td>0.0</td>\n",
              "    </tr>\n",
              "    <tr>\n",
              "      <th>min</th>\n",
              "      <td>1069.843868</td>\n",
              "      <td>18.000000</td>\n",
              "      <td>0.000000</td>\n",
              "      <td>10.006933</td>\n",
              "      <td>0.000234</td>\n",
              "      <td>10.057864</td>\n",
              "      <td>0.0</td>\n",
              "    </tr>\n",
              "    <tr>\n",
              "      <th>25%</th>\n",
              "      <td>3454.648531</td>\n",
              "      <td>29.000000</td>\n",
              "      <td>0.000000</td>\n",
              "      <td>34.343356</td>\n",
              "      <td>0.257657</td>\n",
              "      <td>33.881084</td>\n",
              "      <td>0.0</td>\n",
              "    </tr>\n",
              "    <tr>\n",
              "      <th>50%</th>\n",
              "      <td>5765.640647</td>\n",
              "      <td>39.000000</td>\n",
              "      <td>0.000000</td>\n",
              "      <td>57.456224</td>\n",
              "      <td>0.492191</td>\n",
              "      <td>56.253886</td>\n",
              "      <td>0.0</td>\n",
              "    </tr>\n",
              "    <tr>\n",
              "      <th>75%</th>\n",
              "      <td>7923.417551</td>\n",
              "      <td>51.000000</td>\n",
              "      <td>0.000000</td>\n",
              "      <td>75.867802</td>\n",
              "      <td>0.744149</td>\n",
              "      <td>77.805093</td>\n",
              "      <td>0.0</td>\n",
              "    </tr>\n",
              "    <tr>\n",
              "      <th>max</th>\n",
              "      <td>9999.776239</td>\n",
              "      <td>64.000000</td>\n",
              "      <td>1.000000</td>\n",
              "      <td>99.887410</td>\n",
              "      <td>0.999047</td>\n",
              "      <td>99.784323</td>\n",
              "      <td>0.0</td>\n",
              "    </tr>\n",
              "  </tbody>\n",
              "</table>\n",
              "</div>\n",
              "    <div class=\"colab-df-buttons\">\n",
              "\n",
              "  <div class=\"colab-df-container\">\n",
              "    <button class=\"colab-df-convert\" onclick=\"convertToInteractive('df-e4f3c963-03d9-49fc-9e94-dccfbdd61c67')\"\n",
              "            title=\"Convert this dataframe to an interactive table.\"\n",
              "            style=\"display:none;\">\n",
              "\n",
              "  <svg xmlns=\"http://www.w3.org/2000/svg\" height=\"24px\" viewBox=\"0 -960 960 960\">\n",
              "    <path d=\"M120-120v-720h720v720H120Zm60-500h600v-160H180v160Zm220 220h160v-160H400v160Zm0 220h160v-160H400v160ZM180-400h160v-160H180v160Zm440 0h160v-160H620v160ZM180-180h160v-160H180v160Zm440 0h160v-160H620v160Z\"/>\n",
              "  </svg>\n",
              "    </button>\n",
              "\n",
              "  <style>\n",
              "    .colab-df-container {\n",
              "      display:flex;\n",
              "      gap: 12px;\n",
              "    }\n",
              "\n",
              "    .colab-df-convert {\n",
              "      background-color: #E8F0FE;\n",
              "      border: none;\n",
              "      border-radius: 50%;\n",
              "      cursor: pointer;\n",
              "      display: none;\n",
              "      fill: #1967D2;\n",
              "      height: 32px;\n",
              "      padding: 0 0 0 0;\n",
              "      width: 32px;\n",
              "    }\n",
              "\n",
              "    .colab-df-convert:hover {\n",
              "      background-color: #E2EBFA;\n",
              "      box-shadow: 0px 1px 2px rgba(60, 64, 67, 0.3), 0px 1px 3px 1px rgba(60, 64, 67, 0.15);\n",
              "      fill: #174EA6;\n",
              "    }\n",
              "\n",
              "    .colab-df-buttons div {\n",
              "      margin-bottom: 4px;\n",
              "    }\n",
              "\n",
              "    [theme=dark] .colab-df-convert {\n",
              "      background-color: #3B4455;\n",
              "      fill: #D2E3FC;\n",
              "    }\n",
              "\n",
              "    [theme=dark] .colab-df-convert:hover {\n",
              "      background-color: #434B5C;\n",
              "      box-shadow: 0px 1px 3px 1px rgba(0, 0, 0, 0.15);\n",
              "      filter: drop-shadow(0px 1px 2px rgba(0, 0, 0, 0.3));\n",
              "      fill: #FFFFFF;\n",
              "    }\n",
              "  </style>\n",
              "\n",
              "    <script>\n",
              "      const buttonEl =\n",
              "        document.querySelector('#df-e4f3c963-03d9-49fc-9e94-dccfbdd61c67 button.colab-df-convert');\n",
              "      buttonEl.style.display =\n",
              "        google.colab.kernel.accessAllowed ? 'block' : 'none';\n",
              "\n",
              "      async function convertToInteractive(key) {\n",
              "        const element = document.querySelector('#df-e4f3c963-03d9-49fc-9e94-dccfbdd61c67');\n",
              "        const dataTable =\n",
              "          await google.colab.kernel.invokeFunction('convertToInteractive',\n",
              "                                                    [key], {});\n",
              "        if (!dataTable) return;\n",
              "\n",
              "        const docLinkHtml = 'Like what you see? Visit the ' +\n",
              "          '<a target=\"_blank\" href=https://colab.research.google.com/notebooks/data_table.ipynb>data table notebook</a>'\n",
              "          + ' to learn more about interactive tables.';\n",
              "        element.innerHTML = '';\n",
              "        dataTable['output_type'] = 'display_data';\n",
              "        await google.colab.output.renderOutput(dataTable, element);\n",
              "        const docLink = document.createElement('div');\n",
              "        docLink.innerHTML = docLinkHtml;\n",
              "        element.appendChild(docLink);\n",
              "      }\n",
              "    </script>\n",
              "  </div>\n",
              "\n",
              "\n",
              "<div id=\"df-6bb569d1-b48b-4125-8e39-8a1031759525\">\n",
              "  <button class=\"colab-df-quickchart\" onclick=\"quickchart('df-6bb569d1-b48b-4125-8e39-8a1031759525')\"\n",
              "            title=\"Suggest charts\"\n",
              "            style=\"display:none;\">\n",
              "\n",
              "<svg xmlns=\"http://www.w3.org/2000/svg\" height=\"24px\"viewBox=\"0 0 24 24\"\n",
              "     width=\"24px\">\n",
              "    <g>\n",
              "        <path d=\"M19 3H5c-1.1 0-2 .9-2 2v14c0 1.1.9 2 2 2h14c1.1 0 2-.9 2-2V5c0-1.1-.9-2-2-2zM9 17H7v-7h2v7zm4 0h-2V7h2v10zm4 0h-2v-4h2v4z\"/>\n",
              "    </g>\n",
              "</svg>\n",
              "  </button>\n",
              "\n",
              "<style>\n",
              "  .colab-df-quickchart {\n",
              "      --bg-color: #E8F0FE;\n",
              "      --fill-color: #1967D2;\n",
              "      --hover-bg-color: #E2EBFA;\n",
              "      --hover-fill-color: #174EA6;\n",
              "      --disabled-fill-color: #AAA;\n",
              "      --disabled-bg-color: #DDD;\n",
              "  }\n",
              "\n",
              "  [theme=dark] .colab-df-quickchart {\n",
              "      --bg-color: #3B4455;\n",
              "      --fill-color: #D2E3FC;\n",
              "      --hover-bg-color: #434B5C;\n",
              "      --hover-fill-color: #FFFFFF;\n",
              "      --disabled-bg-color: #3B4455;\n",
              "      --disabled-fill-color: #666;\n",
              "  }\n",
              "\n",
              "  .colab-df-quickchart {\n",
              "    background-color: var(--bg-color);\n",
              "    border: none;\n",
              "    border-radius: 50%;\n",
              "    cursor: pointer;\n",
              "    display: none;\n",
              "    fill: var(--fill-color);\n",
              "    height: 32px;\n",
              "    padding: 0;\n",
              "    width: 32px;\n",
              "  }\n",
              "\n",
              "  .colab-df-quickchart:hover {\n",
              "    background-color: var(--hover-bg-color);\n",
              "    box-shadow: 0 1px 2px rgba(60, 64, 67, 0.3), 0 1px 3px 1px rgba(60, 64, 67, 0.15);\n",
              "    fill: var(--button-hover-fill-color);\n",
              "  }\n",
              "\n",
              "  .colab-df-quickchart-complete:disabled,\n",
              "  .colab-df-quickchart-complete:disabled:hover {\n",
              "    background-color: var(--disabled-bg-color);\n",
              "    fill: var(--disabled-fill-color);\n",
              "    box-shadow: none;\n",
              "  }\n",
              "\n",
              "  .colab-df-spinner {\n",
              "    border: 2px solid var(--fill-color);\n",
              "    border-color: transparent;\n",
              "    border-bottom-color: var(--fill-color);\n",
              "    animation:\n",
              "      spin 1s steps(1) infinite;\n",
              "  }\n",
              "\n",
              "  @keyframes spin {\n",
              "    0% {\n",
              "      border-color: transparent;\n",
              "      border-bottom-color: var(--fill-color);\n",
              "      border-left-color: var(--fill-color);\n",
              "    }\n",
              "    20% {\n",
              "      border-color: transparent;\n",
              "      border-left-color: var(--fill-color);\n",
              "      border-top-color: var(--fill-color);\n",
              "    }\n",
              "    30% {\n",
              "      border-color: transparent;\n",
              "      border-left-color: var(--fill-color);\n",
              "      border-top-color: var(--fill-color);\n",
              "      border-right-color: var(--fill-color);\n",
              "    }\n",
              "    40% {\n",
              "      border-color: transparent;\n",
              "      border-right-color: var(--fill-color);\n",
              "      border-top-color: var(--fill-color);\n",
              "    }\n",
              "    60% {\n",
              "      border-color: transparent;\n",
              "      border-right-color: var(--fill-color);\n",
              "    }\n",
              "    80% {\n",
              "      border-color: transparent;\n",
              "      border-right-color: var(--fill-color);\n",
              "      border-bottom-color: var(--fill-color);\n",
              "    }\n",
              "    90% {\n",
              "      border-color: transparent;\n",
              "      border-bottom-color: var(--fill-color);\n",
              "    }\n",
              "  }\n",
              "</style>\n",
              "\n",
              "  <script>\n",
              "    async function quickchart(key) {\n",
              "      const quickchartButtonEl =\n",
              "        document.querySelector('#' + key + ' button');\n",
              "      quickchartButtonEl.disabled = true;  // To prevent multiple clicks.\n",
              "      quickchartButtonEl.classList.add('colab-df-spinner');\n",
              "      try {\n",
              "        const charts = await google.colab.kernel.invokeFunction(\n",
              "            'suggestCharts', [key], {});\n",
              "      } catch (error) {\n",
              "        console.error('Error during call to suggestCharts:', error);\n",
              "      }\n",
              "      quickchartButtonEl.classList.remove('colab-df-spinner');\n",
              "      quickchartButtonEl.classList.add('colab-df-quickchart-complete');\n",
              "    }\n",
              "    (() => {\n",
              "      let quickchartButtonEl =\n",
              "        document.querySelector('#df-6bb569d1-b48b-4125-8e39-8a1031759525 button');\n",
              "      quickchartButtonEl.style.display =\n",
              "        google.colab.kernel.accessAllowed ? 'block' : 'none';\n",
              "    })();\n",
              "  </script>\n",
              "</div>\n",
              "\n",
              "    </div>\n",
              "  </div>\n"
            ],
            "application/vnd.google.colaboratory.intrinsic+json": {
              "type": "dataframe",
              "summary": "{\n  \"name\": \"legit\",\n  \"rows\": 8,\n  \"fields\": [\n    {\n      \"column\": \"AccountBalance\",\n      \"properties\": {\n        \"dtype\": \"number\",\n        \"std\": 3252.4328680485437,\n        \"min\": 955.0,\n        \"max\": 9999.776238940984,\n        \"num_unique_values\": 8,\n        \"samples\": [\n          5717.875984194277,\n          5765.640647310825,\n          955.0\n        ],\n        \"semantic_type\": \"\",\n        \"description\": \"\"\n      }\n    },\n    {\n      \"column\": \"Age\",\n      \"properties\": {\n        \"dtype\": \"number\",\n        \"std\": 325.24078693273617,\n        \"min\": 13.058450854790982,\n        \"max\": 955.0,\n        \"num_unique_values\": 8,\n        \"samples\": [\n          39.908900523560206,\n          39.0,\n          955.0\n        ],\n        \"semantic_type\": \"\",\n        \"description\": \"\"\n      }\n    },\n    {\n      \"column\": \"SuspiciousFlag\",\n      \"properties\": {\n        \"dtype\": \"number\",\n        \"std\": 337.58441061201125,\n        \"min\": 0.0,\n        \"max\": 955.0,\n        \"num_unique_values\": 5,\n        \"samples\": [\n          0.023036649214659685,\n          1.0,\n          0.15009847821601852\n        ],\n        \"semantic_type\": \"\",\n        \"description\": \"\"\n      }\n    },\n    {\n      \"column\": \"Amount\",\n      \"properties\": {\n        \"dtype\": \"number\",\n        \"std\": 320.8400035476196,\n        \"min\": 10.006932562275091,\n        \"max\": 955.0,\n        \"num_unique_values\": 8,\n        \"samples\": [\n          55.31531722720101,\n          57.45622413714661,\n          955.0\n        ],\n        \"semantic_type\": \"\",\n        \"description\": \"\"\n      }\n    },\n    {\n      \"column\": \"AnomalyScore\",\n      \"properties\": {\n        \"dtype\": \"number\",\n        \"std\": 337.47816045421365,\n        \"min\": 0.0002337072005655,\n        \"max\": 955.0,\n        \"num_unique_values\": 8,\n        \"samples\": [\n          0.4952978147290206,\n          0.4921912967224267,\n          955.0\n        ],\n        \"semantic_type\": \"\",\n        \"description\": \"\"\n      }\n    },\n    {\n      \"column\": \"TransactionAmount\",\n      \"properties\": {\n        \"dtype\": \"number\",\n        \"std\": 320.74256582921504,\n        \"min\": 10.057863646142923,\n        \"max\": 955.0,\n        \"num_unique_values\": 8,\n        \"samples\": [\n          56.04323540656044,\n          56.25388641737121,\n          955.0\n        ],\n        \"semantic_type\": \"\",\n        \"description\": \"\"\n      }\n    },\n    {\n      \"column\": \"FraudIndicator\",\n      \"properties\": {\n        \"dtype\": \"number\",\n        \"std\": 337.64348801657644,\n        \"min\": 0.0,\n        \"max\": 955.0,\n        \"num_unique_values\": 2,\n        \"samples\": [\n          0.0,\n          955.0\n        ],\n        \"semantic_type\": \"\",\n        \"description\": \"\"\n      }\n    }\n  ]\n}"
            }
          },
          "metadata": {},
          "execution_count": 215
        }
      ]
    },
    {
      "cell_type": "code",
      "source": [
        "fraud.describe()"
      ],
      "metadata": {
        "colab": {
          "base_uri": "https://localhost:8080/",
          "height": 0
        },
        "id": "agOqE6aKBaTl",
        "outputId": "e5fa4e04-1a59-47d7-f10c-187f0f598579"
      },
      "execution_count": 216,
      "outputs": [
        {
          "output_type": "execute_result",
          "data": {
            "text/plain": [
              "       AccountBalance        Age  SuspiciousFlag     Amount  AnomalyScore  \\\n",
              "count       45.000000  45.000000       45.000000  45.000000     45.000000   \n",
              "mean      5664.097017  38.555556        0.066667  57.083189      0.428274   \n",
              "std       2491.966986  13.505143        0.252262  26.762756      0.303903   \n",
              "min       1056.301181  18.000000        0.000000  10.863845      0.006120   \n",
              "25%       3760.161480  27.000000        0.000000  37.182412      0.161773   \n",
              "50%       5628.777106  36.000000        0.000000  58.881829      0.354091   \n",
              "75%       8044.236478  48.000000        0.000000  72.132584      0.646371   \n",
              "max       9674.062164  63.000000        1.000000  99.243294      0.966456   \n",
              "\n",
              "       TransactionAmount  FraudIndicator  \n",
              "count          45.000000            45.0  \n",
              "mean           51.834135             1.0  \n",
              "std            24.952759             0.0  \n",
              "min            10.831047             1.0  \n",
              "25%            30.823268             1.0  \n",
              "50%            51.138916             1.0  \n",
              "75%            75.659944             1.0  \n",
              "max            93.909801             1.0  "
            ],
            "text/html": [
              "\n",
              "  <div id=\"df-696250af-b8f0-4019-9fd7-eb91d6e9a20d\" class=\"colab-df-container\">\n",
              "    <div>\n",
              "<style scoped>\n",
              "    .dataframe tbody tr th:only-of-type {\n",
              "        vertical-align: middle;\n",
              "    }\n",
              "\n",
              "    .dataframe tbody tr th {\n",
              "        vertical-align: top;\n",
              "    }\n",
              "\n",
              "    .dataframe thead th {\n",
              "        text-align: right;\n",
              "    }\n",
              "</style>\n",
              "<table border=\"1\" class=\"dataframe\">\n",
              "  <thead>\n",
              "    <tr style=\"text-align: right;\">\n",
              "      <th></th>\n",
              "      <th>AccountBalance</th>\n",
              "      <th>Age</th>\n",
              "      <th>SuspiciousFlag</th>\n",
              "      <th>Amount</th>\n",
              "      <th>AnomalyScore</th>\n",
              "      <th>TransactionAmount</th>\n",
              "      <th>FraudIndicator</th>\n",
              "    </tr>\n",
              "  </thead>\n",
              "  <tbody>\n",
              "    <tr>\n",
              "      <th>count</th>\n",
              "      <td>45.000000</td>\n",
              "      <td>45.000000</td>\n",
              "      <td>45.000000</td>\n",
              "      <td>45.000000</td>\n",
              "      <td>45.000000</td>\n",
              "      <td>45.000000</td>\n",
              "      <td>45.0</td>\n",
              "    </tr>\n",
              "    <tr>\n",
              "      <th>mean</th>\n",
              "      <td>5664.097017</td>\n",
              "      <td>38.555556</td>\n",
              "      <td>0.066667</td>\n",
              "      <td>57.083189</td>\n",
              "      <td>0.428274</td>\n",
              "      <td>51.834135</td>\n",
              "      <td>1.0</td>\n",
              "    </tr>\n",
              "    <tr>\n",
              "      <th>std</th>\n",
              "      <td>2491.966986</td>\n",
              "      <td>13.505143</td>\n",
              "      <td>0.252262</td>\n",
              "      <td>26.762756</td>\n",
              "      <td>0.303903</td>\n",
              "      <td>24.952759</td>\n",
              "      <td>0.0</td>\n",
              "    </tr>\n",
              "    <tr>\n",
              "      <th>min</th>\n",
              "      <td>1056.301181</td>\n",
              "      <td>18.000000</td>\n",
              "      <td>0.000000</td>\n",
              "      <td>10.863845</td>\n",
              "      <td>0.006120</td>\n",
              "      <td>10.831047</td>\n",
              "      <td>1.0</td>\n",
              "    </tr>\n",
              "    <tr>\n",
              "      <th>25%</th>\n",
              "      <td>3760.161480</td>\n",
              "      <td>27.000000</td>\n",
              "      <td>0.000000</td>\n",
              "      <td>37.182412</td>\n",
              "      <td>0.161773</td>\n",
              "      <td>30.823268</td>\n",
              "      <td>1.0</td>\n",
              "    </tr>\n",
              "    <tr>\n",
              "      <th>50%</th>\n",
              "      <td>5628.777106</td>\n",
              "      <td>36.000000</td>\n",
              "      <td>0.000000</td>\n",
              "      <td>58.881829</td>\n",
              "      <td>0.354091</td>\n",
              "      <td>51.138916</td>\n",
              "      <td>1.0</td>\n",
              "    </tr>\n",
              "    <tr>\n",
              "      <th>75%</th>\n",
              "      <td>8044.236478</td>\n",
              "      <td>48.000000</td>\n",
              "      <td>0.000000</td>\n",
              "      <td>72.132584</td>\n",
              "      <td>0.646371</td>\n",
              "      <td>75.659944</td>\n",
              "      <td>1.0</td>\n",
              "    </tr>\n",
              "    <tr>\n",
              "      <th>max</th>\n",
              "      <td>9674.062164</td>\n",
              "      <td>63.000000</td>\n",
              "      <td>1.000000</td>\n",
              "      <td>99.243294</td>\n",
              "      <td>0.966456</td>\n",
              "      <td>93.909801</td>\n",
              "      <td>1.0</td>\n",
              "    </tr>\n",
              "  </tbody>\n",
              "</table>\n",
              "</div>\n",
              "    <div class=\"colab-df-buttons\">\n",
              "\n",
              "  <div class=\"colab-df-container\">\n",
              "    <button class=\"colab-df-convert\" onclick=\"convertToInteractive('df-696250af-b8f0-4019-9fd7-eb91d6e9a20d')\"\n",
              "            title=\"Convert this dataframe to an interactive table.\"\n",
              "            style=\"display:none;\">\n",
              "\n",
              "  <svg xmlns=\"http://www.w3.org/2000/svg\" height=\"24px\" viewBox=\"0 -960 960 960\">\n",
              "    <path d=\"M120-120v-720h720v720H120Zm60-500h600v-160H180v160Zm220 220h160v-160H400v160Zm0 220h160v-160H400v160ZM180-400h160v-160H180v160Zm440 0h160v-160H620v160ZM180-180h160v-160H180v160Zm440 0h160v-160H620v160Z\"/>\n",
              "  </svg>\n",
              "    </button>\n",
              "\n",
              "  <style>\n",
              "    .colab-df-container {\n",
              "      display:flex;\n",
              "      gap: 12px;\n",
              "    }\n",
              "\n",
              "    .colab-df-convert {\n",
              "      background-color: #E8F0FE;\n",
              "      border: none;\n",
              "      border-radius: 50%;\n",
              "      cursor: pointer;\n",
              "      display: none;\n",
              "      fill: #1967D2;\n",
              "      height: 32px;\n",
              "      padding: 0 0 0 0;\n",
              "      width: 32px;\n",
              "    }\n",
              "\n",
              "    .colab-df-convert:hover {\n",
              "      background-color: #E2EBFA;\n",
              "      box-shadow: 0px 1px 2px rgba(60, 64, 67, 0.3), 0px 1px 3px 1px rgba(60, 64, 67, 0.15);\n",
              "      fill: #174EA6;\n",
              "    }\n",
              "\n",
              "    .colab-df-buttons div {\n",
              "      margin-bottom: 4px;\n",
              "    }\n",
              "\n",
              "    [theme=dark] .colab-df-convert {\n",
              "      background-color: #3B4455;\n",
              "      fill: #D2E3FC;\n",
              "    }\n",
              "\n",
              "    [theme=dark] .colab-df-convert:hover {\n",
              "      background-color: #434B5C;\n",
              "      box-shadow: 0px 1px 3px 1px rgba(0, 0, 0, 0.15);\n",
              "      filter: drop-shadow(0px 1px 2px rgba(0, 0, 0, 0.3));\n",
              "      fill: #FFFFFF;\n",
              "    }\n",
              "  </style>\n",
              "\n",
              "    <script>\n",
              "      const buttonEl =\n",
              "        document.querySelector('#df-696250af-b8f0-4019-9fd7-eb91d6e9a20d button.colab-df-convert');\n",
              "      buttonEl.style.display =\n",
              "        google.colab.kernel.accessAllowed ? 'block' : 'none';\n",
              "\n",
              "      async function convertToInteractive(key) {\n",
              "        const element = document.querySelector('#df-696250af-b8f0-4019-9fd7-eb91d6e9a20d');\n",
              "        const dataTable =\n",
              "          await google.colab.kernel.invokeFunction('convertToInteractive',\n",
              "                                                    [key], {});\n",
              "        if (!dataTable) return;\n",
              "\n",
              "        const docLinkHtml = 'Like what you see? Visit the ' +\n",
              "          '<a target=\"_blank\" href=https://colab.research.google.com/notebooks/data_table.ipynb>data table notebook</a>'\n",
              "          + ' to learn more about interactive tables.';\n",
              "        element.innerHTML = '';\n",
              "        dataTable['output_type'] = 'display_data';\n",
              "        await google.colab.output.renderOutput(dataTable, element);\n",
              "        const docLink = document.createElement('div');\n",
              "        docLink.innerHTML = docLinkHtml;\n",
              "        element.appendChild(docLink);\n",
              "      }\n",
              "    </script>\n",
              "  </div>\n",
              "\n",
              "\n",
              "<div id=\"df-85618824-83fe-4f97-a096-5ba1e56b95da\">\n",
              "  <button class=\"colab-df-quickchart\" onclick=\"quickchart('df-85618824-83fe-4f97-a096-5ba1e56b95da')\"\n",
              "            title=\"Suggest charts\"\n",
              "            style=\"display:none;\">\n",
              "\n",
              "<svg xmlns=\"http://www.w3.org/2000/svg\" height=\"24px\"viewBox=\"0 0 24 24\"\n",
              "     width=\"24px\">\n",
              "    <g>\n",
              "        <path d=\"M19 3H5c-1.1 0-2 .9-2 2v14c0 1.1.9 2 2 2h14c1.1 0 2-.9 2-2V5c0-1.1-.9-2-2-2zM9 17H7v-7h2v7zm4 0h-2V7h2v10zm4 0h-2v-4h2v4z\"/>\n",
              "    </g>\n",
              "</svg>\n",
              "  </button>\n",
              "\n",
              "<style>\n",
              "  .colab-df-quickchart {\n",
              "      --bg-color: #E8F0FE;\n",
              "      --fill-color: #1967D2;\n",
              "      --hover-bg-color: #E2EBFA;\n",
              "      --hover-fill-color: #174EA6;\n",
              "      --disabled-fill-color: #AAA;\n",
              "      --disabled-bg-color: #DDD;\n",
              "  }\n",
              "\n",
              "  [theme=dark] .colab-df-quickchart {\n",
              "      --bg-color: #3B4455;\n",
              "      --fill-color: #D2E3FC;\n",
              "      --hover-bg-color: #434B5C;\n",
              "      --hover-fill-color: #FFFFFF;\n",
              "      --disabled-bg-color: #3B4455;\n",
              "      --disabled-fill-color: #666;\n",
              "  }\n",
              "\n",
              "  .colab-df-quickchart {\n",
              "    background-color: var(--bg-color);\n",
              "    border: none;\n",
              "    border-radius: 50%;\n",
              "    cursor: pointer;\n",
              "    display: none;\n",
              "    fill: var(--fill-color);\n",
              "    height: 32px;\n",
              "    padding: 0;\n",
              "    width: 32px;\n",
              "  }\n",
              "\n",
              "  .colab-df-quickchart:hover {\n",
              "    background-color: var(--hover-bg-color);\n",
              "    box-shadow: 0 1px 2px rgba(60, 64, 67, 0.3), 0 1px 3px 1px rgba(60, 64, 67, 0.15);\n",
              "    fill: var(--button-hover-fill-color);\n",
              "  }\n",
              "\n",
              "  .colab-df-quickchart-complete:disabled,\n",
              "  .colab-df-quickchart-complete:disabled:hover {\n",
              "    background-color: var(--disabled-bg-color);\n",
              "    fill: var(--disabled-fill-color);\n",
              "    box-shadow: none;\n",
              "  }\n",
              "\n",
              "  .colab-df-spinner {\n",
              "    border: 2px solid var(--fill-color);\n",
              "    border-color: transparent;\n",
              "    border-bottom-color: var(--fill-color);\n",
              "    animation:\n",
              "      spin 1s steps(1) infinite;\n",
              "  }\n",
              "\n",
              "  @keyframes spin {\n",
              "    0% {\n",
              "      border-color: transparent;\n",
              "      border-bottom-color: var(--fill-color);\n",
              "      border-left-color: var(--fill-color);\n",
              "    }\n",
              "    20% {\n",
              "      border-color: transparent;\n",
              "      border-left-color: var(--fill-color);\n",
              "      border-top-color: var(--fill-color);\n",
              "    }\n",
              "    30% {\n",
              "      border-color: transparent;\n",
              "      border-left-color: var(--fill-color);\n",
              "      border-top-color: var(--fill-color);\n",
              "      border-right-color: var(--fill-color);\n",
              "    }\n",
              "    40% {\n",
              "      border-color: transparent;\n",
              "      border-right-color: var(--fill-color);\n",
              "      border-top-color: var(--fill-color);\n",
              "    }\n",
              "    60% {\n",
              "      border-color: transparent;\n",
              "      border-right-color: var(--fill-color);\n",
              "    }\n",
              "    80% {\n",
              "      border-color: transparent;\n",
              "      border-right-color: var(--fill-color);\n",
              "      border-bottom-color: var(--fill-color);\n",
              "    }\n",
              "    90% {\n",
              "      border-color: transparent;\n",
              "      border-bottom-color: var(--fill-color);\n",
              "    }\n",
              "  }\n",
              "</style>\n",
              "\n",
              "  <script>\n",
              "    async function quickchart(key) {\n",
              "      const quickchartButtonEl =\n",
              "        document.querySelector('#' + key + ' button');\n",
              "      quickchartButtonEl.disabled = true;  // To prevent multiple clicks.\n",
              "      quickchartButtonEl.classList.add('colab-df-spinner');\n",
              "      try {\n",
              "        const charts = await google.colab.kernel.invokeFunction(\n",
              "            'suggestCharts', [key], {});\n",
              "      } catch (error) {\n",
              "        console.error('Error during call to suggestCharts:', error);\n",
              "      }\n",
              "      quickchartButtonEl.classList.remove('colab-df-spinner');\n",
              "      quickchartButtonEl.classList.add('colab-df-quickchart-complete');\n",
              "    }\n",
              "    (() => {\n",
              "      let quickchartButtonEl =\n",
              "        document.querySelector('#df-85618824-83fe-4f97-a096-5ba1e56b95da button');\n",
              "      quickchartButtonEl.style.display =\n",
              "        google.colab.kernel.accessAllowed ? 'block' : 'none';\n",
              "    })();\n",
              "  </script>\n",
              "</div>\n",
              "\n",
              "    </div>\n",
              "  </div>\n"
            ],
            "application/vnd.google.colaboratory.intrinsic+json": {
              "type": "dataframe",
              "summary": "{\n  \"name\": \"fraud\",\n  \"rows\": 8,\n  \"fields\": [\n    {\n      \"column\": \"AccountBalance\",\n      \"properties\": {\n        \"dtype\": \"number\",\n        \"std\": 3343.027251391757,\n        \"min\": 45.0,\n        \"max\": 9674.062164262285,\n        \"num_unique_values\": 8,\n        \"samples\": [\n          5664.097017145591,\n          5628.777105512586,\n          45.0\n        ],\n        \"semantic_type\": \"\",\n        \"description\": \"\"\n      }\n    },\n    {\n      \"column\": \"Age\",\n      \"properties\": {\n        \"dtype\": \"number\",\n        \"std\": 16.350661052864844,\n        \"min\": 13.505143053255264,\n        \"max\": 63.0,\n        \"num_unique_values\": 8,\n        \"samples\": [\n          38.55555555555556,\n          36.0,\n          45.0\n        ],\n        \"semantic_type\": \"\",\n        \"description\": \"\"\n      }\n    },\n    {\n      \"column\": \"SuspiciousFlag\",\n      \"properties\": {\n        \"dtype\": \"number\",\n        \"std\": 15.846981150254717,\n        \"min\": 0.0,\n        \"max\": 45.0,\n        \"num_unique_values\": 5,\n        \"samples\": [\n          0.06666666666666667,\n          1.0,\n          0.2522624895547563\n        ],\n        \"semantic_type\": \"\",\n        \"description\": \"\"\n      }\n    },\n    {\n      \"column\": \"Amount\",\n      \"properties\": {\n        \"dtype\": \"number\",\n        \"std\": 27.51186823835393,\n        \"min\": 10.863844969173988,\n        \"max\": 99.24329385724016,\n        \"num_unique_values\": 8,\n        \"samples\": [\n          57.08318930121354,\n          58.881829218778016,\n          45.0\n        ],\n        \"semantic_type\": \"\",\n        \"description\": \"\"\n      }\n    },\n    {\n      \"column\": \"AnomalyScore\",\n      \"properties\": {\n        \"dtype\": \"number\",\n        \"std\": 15.767838540003604,\n        \"min\": 0.0061201141369274,\n        \"max\": 45.0,\n        \"num_unique_values\": 8,\n        \"samples\": [\n          0.42827367983466963,\n          0.3540911370424252,\n          45.0\n        ],\n        \"semantic_type\": \"\",\n        \"description\": \"\"\n      }\n    },\n    {\n      \"column\": \"TransactionAmount\",\n      \"properties\": {\n        \"dtype\": \"number\",\n        \"std\": 27.029294799642894,\n        \"min\": 10.83104719865872,\n        \"max\": 93.90980107812352,\n        \"num_unique_values\": 8,\n        \"samples\": [\n          51.83413504370958,\n          51.13891597355007,\n          45.0\n        ],\n        \"semantic_type\": \"\",\n        \"description\": \"\"\n      }\n    },\n    {\n      \"column\": \"FraudIndicator\",\n      \"properties\": {\n        \"dtype\": \"number\",\n        \"std\": 15.6107792429279,\n        \"min\": 0.0,\n        \"max\": 45.0,\n        \"num_unique_values\": 3,\n        \"samples\": [\n          45.0,\n          1.0,\n          0.0\n        ],\n        \"semantic_type\": \"\",\n        \"description\": \"\"\n      }\n    }\n  ]\n}"
            }
          },
          "metadata": {},
          "execution_count": 216
        }
      ]
    },
    {
      "cell_type": "code",
      "source": [
        "numeric_features = dataset.select_dtypes(include=np.number).columns\n",
        "dataset_numeric = dataset[numeric_features]\n",
        "result = dataset_numeric.groupby(\"FraudIndicator\").mean()\n",
        "print(result)"
      ],
      "metadata": {
        "colab": {
          "base_uri": "https://localhost:8080/"
        },
        "id": "74EZ35w4Klh_",
        "outputId": "989744b4-4e17-48be-ece6-67ee414aad83"
      },
      "execution_count": 217,
      "outputs": [
        {
          "output_type": "stream",
          "name": "stdout",
          "text": [
            "                AccountBalance        Age  SuspiciousFlag     Amount  \\\n",
            "FraudIndicator                                                         \n",
            "0                  5717.875984  39.908901        0.023037  55.315317   \n",
            "1                  5664.097017  38.555556        0.066667  57.083189   \n",
            "\n",
            "                AnomalyScore  TransactionAmount  \n",
            "FraudIndicator                                   \n",
            "0                   0.495298          56.043235  \n",
            "1                   0.428274          51.834135  \n"
          ]
        }
      ]
    },
    {
      "cell_type": "markdown",
      "source": [
        "## 3.Under Sampling\n",
        "\n"
      ],
      "metadata": {
        "id": "hEJ_7llgMOjg"
      }
    },
    {
      "cell_type": "code",
      "source": [
        "legit_sample = legit.sample(n = 155)"
      ],
      "metadata": {
        "id": "j29SdiB2Mckq"
      },
      "execution_count": 218,
      "outputs": []
    },
    {
      "cell_type": "code",
      "source": [
        "new_dataset = pd.concat([legit_sample, fraud], axis = 0)"
      ],
      "metadata": {
        "id": "Fc9-nE53NBuI"
      },
      "execution_count": 219,
      "outputs": []
    },
    {
      "cell_type": "code",
      "source": [
        "new_dataset.head()"
      ],
      "metadata": {
        "colab": {
          "base_uri": "https://localhost:8080/",
          "height": 0
        },
        "id": "evvpkQUlNbSr",
        "outputId": "ddb1f0e9-73a1-4254-cb79-5939a4f2b4d3"
      },
      "execution_count": 220,
      "outputs": [
        {
          "output_type": "execute_result",
          "data": {
            "text/plain": [
              "     AccountBalance   LastLogin  Age  SuspiciousFlag     Amount  AnomalyScore  \\\n",
              "32      3767.557888  2022-01-30   54               0  59.350990      0.790492   \n",
              "596     1150.295949  2023-08-18   53               0  68.161513      0.106593   \n",
              "139     5038.910017  2022-05-18   63               0  61.193746      0.429079   \n",
              "9       2706.148888  2022-01-12   45               0  61.658995      0.264580   \n",
              "155     3214.341695  2022-05-28   63               0  70.344273      0.205206   \n",
              "\n",
              "     TransactionAmount  FraudIndicator Category            Timestamp  \n",
              "32           16.316389               0    Other  2022-01-02 08:00:00  \n",
              "596          39.025706               0   Retail  2022-01-26 17:00:00  \n",
              "139          75.353721               0    Other  2022-02-09 16:00:00  \n",
              "9            97.486882               0   Online  2022-01-05 05:00:00  \n",
              "155          97.632391               0    Other  2022-01-31 20:00:00  "
            ],
            "text/html": [
              "\n",
              "  <div id=\"df-ab3b526a-5008-43d1-b19f-b3deeb66ba64\" class=\"colab-df-container\">\n",
              "    <div>\n",
              "<style scoped>\n",
              "    .dataframe tbody tr th:only-of-type {\n",
              "        vertical-align: middle;\n",
              "    }\n",
              "\n",
              "    .dataframe tbody tr th {\n",
              "        vertical-align: top;\n",
              "    }\n",
              "\n",
              "    .dataframe thead th {\n",
              "        text-align: right;\n",
              "    }\n",
              "</style>\n",
              "<table border=\"1\" class=\"dataframe\">\n",
              "  <thead>\n",
              "    <tr style=\"text-align: right;\">\n",
              "      <th></th>\n",
              "      <th>AccountBalance</th>\n",
              "      <th>LastLogin</th>\n",
              "      <th>Age</th>\n",
              "      <th>SuspiciousFlag</th>\n",
              "      <th>Amount</th>\n",
              "      <th>AnomalyScore</th>\n",
              "      <th>TransactionAmount</th>\n",
              "      <th>FraudIndicator</th>\n",
              "      <th>Category</th>\n",
              "      <th>Timestamp</th>\n",
              "    </tr>\n",
              "  </thead>\n",
              "  <tbody>\n",
              "    <tr>\n",
              "      <th>32</th>\n",
              "      <td>3767.557888</td>\n",
              "      <td>2022-01-30</td>\n",
              "      <td>54</td>\n",
              "      <td>0</td>\n",
              "      <td>59.350990</td>\n",
              "      <td>0.790492</td>\n",
              "      <td>16.316389</td>\n",
              "      <td>0</td>\n",
              "      <td>Other</td>\n",
              "      <td>2022-01-02 08:00:00</td>\n",
              "    </tr>\n",
              "    <tr>\n",
              "      <th>596</th>\n",
              "      <td>1150.295949</td>\n",
              "      <td>2023-08-18</td>\n",
              "      <td>53</td>\n",
              "      <td>0</td>\n",
              "      <td>68.161513</td>\n",
              "      <td>0.106593</td>\n",
              "      <td>39.025706</td>\n",
              "      <td>0</td>\n",
              "      <td>Retail</td>\n",
              "      <td>2022-01-26 17:00:00</td>\n",
              "    </tr>\n",
              "    <tr>\n",
              "      <th>139</th>\n",
              "      <td>5038.910017</td>\n",
              "      <td>2022-05-18</td>\n",
              "      <td>63</td>\n",
              "      <td>0</td>\n",
              "      <td>61.193746</td>\n",
              "      <td>0.429079</td>\n",
              "      <td>75.353721</td>\n",
              "      <td>0</td>\n",
              "      <td>Other</td>\n",
              "      <td>2022-02-09 16:00:00</td>\n",
              "    </tr>\n",
              "    <tr>\n",
              "      <th>9</th>\n",
              "      <td>2706.148888</td>\n",
              "      <td>2022-01-12</td>\n",
              "      <td>45</td>\n",
              "      <td>0</td>\n",
              "      <td>61.658995</td>\n",
              "      <td>0.264580</td>\n",
              "      <td>97.486882</td>\n",
              "      <td>0</td>\n",
              "      <td>Online</td>\n",
              "      <td>2022-01-05 05:00:00</td>\n",
              "    </tr>\n",
              "    <tr>\n",
              "      <th>155</th>\n",
              "      <td>3214.341695</td>\n",
              "      <td>2022-05-28</td>\n",
              "      <td>63</td>\n",
              "      <td>0</td>\n",
              "      <td>70.344273</td>\n",
              "      <td>0.205206</td>\n",
              "      <td>97.632391</td>\n",
              "      <td>0</td>\n",
              "      <td>Other</td>\n",
              "      <td>2022-01-31 20:00:00</td>\n",
              "    </tr>\n",
              "  </tbody>\n",
              "</table>\n",
              "</div>\n",
              "    <div class=\"colab-df-buttons\">\n",
              "\n",
              "  <div class=\"colab-df-container\">\n",
              "    <button class=\"colab-df-convert\" onclick=\"convertToInteractive('df-ab3b526a-5008-43d1-b19f-b3deeb66ba64')\"\n",
              "            title=\"Convert this dataframe to an interactive table.\"\n",
              "            style=\"display:none;\">\n",
              "\n",
              "  <svg xmlns=\"http://www.w3.org/2000/svg\" height=\"24px\" viewBox=\"0 -960 960 960\">\n",
              "    <path d=\"M120-120v-720h720v720H120Zm60-500h600v-160H180v160Zm220 220h160v-160H400v160Zm0 220h160v-160H400v160ZM180-400h160v-160H180v160Zm440 0h160v-160H620v160ZM180-180h160v-160H180v160Zm440 0h160v-160H620v160Z\"/>\n",
              "  </svg>\n",
              "    </button>\n",
              "\n",
              "  <style>\n",
              "    .colab-df-container {\n",
              "      display:flex;\n",
              "      gap: 12px;\n",
              "    }\n",
              "\n",
              "    .colab-df-convert {\n",
              "      background-color: #E8F0FE;\n",
              "      border: none;\n",
              "      border-radius: 50%;\n",
              "      cursor: pointer;\n",
              "      display: none;\n",
              "      fill: #1967D2;\n",
              "      height: 32px;\n",
              "      padding: 0 0 0 0;\n",
              "      width: 32px;\n",
              "    }\n",
              "\n",
              "    .colab-df-convert:hover {\n",
              "      background-color: #E2EBFA;\n",
              "      box-shadow: 0px 1px 2px rgba(60, 64, 67, 0.3), 0px 1px 3px 1px rgba(60, 64, 67, 0.15);\n",
              "      fill: #174EA6;\n",
              "    }\n",
              "\n",
              "    .colab-df-buttons div {\n",
              "      margin-bottom: 4px;\n",
              "    }\n",
              "\n",
              "    [theme=dark] .colab-df-convert {\n",
              "      background-color: #3B4455;\n",
              "      fill: #D2E3FC;\n",
              "    }\n",
              "\n",
              "    [theme=dark] .colab-df-convert:hover {\n",
              "      background-color: #434B5C;\n",
              "      box-shadow: 0px 1px 3px 1px rgba(0, 0, 0, 0.15);\n",
              "      filter: drop-shadow(0px 1px 2px rgba(0, 0, 0, 0.3));\n",
              "      fill: #FFFFFF;\n",
              "    }\n",
              "  </style>\n",
              "\n",
              "    <script>\n",
              "      const buttonEl =\n",
              "        document.querySelector('#df-ab3b526a-5008-43d1-b19f-b3deeb66ba64 button.colab-df-convert');\n",
              "      buttonEl.style.display =\n",
              "        google.colab.kernel.accessAllowed ? 'block' : 'none';\n",
              "\n",
              "      async function convertToInteractive(key) {\n",
              "        const element = document.querySelector('#df-ab3b526a-5008-43d1-b19f-b3deeb66ba64');\n",
              "        const dataTable =\n",
              "          await google.colab.kernel.invokeFunction('convertToInteractive',\n",
              "                                                    [key], {});\n",
              "        if (!dataTable) return;\n",
              "\n",
              "        const docLinkHtml = 'Like what you see? Visit the ' +\n",
              "          '<a target=\"_blank\" href=https://colab.research.google.com/notebooks/data_table.ipynb>data table notebook</a>'\n",
              "          + ' to learn more about interactive tables.';\n",
              "        element.innerHTML = '';\n",
              "        dataTable['output_type'] = 'display_data';\n",
              "        await google.colab.output.renderOutput(dataTable, element);\n",
              "        const docLink = document.createElement('div');\n",
              "        docLink.innerHTML = docLinkHtml;\n",
              "        element.appendChild(docLink);\n",
              "      }\n",
              "    </script>\n",
              "  </div>\n",
              "\n",
              "\n",
              "<div id=\"df-a58c4a50-a18f-45f7-a45a-0de92fd07270\">\n",
              "  <button class=\"colab-df-quickchart\" onclick=\"quickchart('df-a58c4a50-a18f-45f7-a45a-0de92fd07270')\"\n",
              "            title=\"Suggest charts\"\n",
              "            style=\"display:none;\">\n",
              "\n",
              "<svg xmlns=\"http://www.w3.org/2000/svg\" height=\"24px\"viewBox=\"0 0 24 24\"\n",
              "     width=\"24px\">\n",
              "    <g>\n",
              "        <path d=\"M19 3H5c-1.1 0-2 .9-2 2v14c0 1.1.9 2 2 2h14c1.1 0 2-.9 2-2V5c0-1.1-.9-2-2-2zM9 17H7v-7h2v7zm4 0h-2V7h2v10zm4 0h-2v-4h2v4z\"/>\n",
              "    </g>\n",
              "</svg>\n",
              "  </button>\n",
              "\n",
              "<style>\n",
              "  .colab-df-quickchart {\n",
              "      --bg-color: #E8F0FE;\n",
              "      --fill-color: #1967D2;\n",
              "      --hover-bg-color: #E2EBFA;\n",
              "      --hover-fill-color: #174EA6;\n",
              "      --disabled-fill-color: #AAA;\n",
              "      --disabled-bg-color: #DDD;\n",
              "  }\n",
              "\n",
              "  [theme=dark] .colab-df-quickchart {\n",
              "      --bg-color: #3B4455;\n",
              "      --fill-color: #D2E3FC;\n",
              "      --hover-bg-color: #434B5C;\n",
              "      --hover-fill-color: #FFFFFF;\n",
              "      --disabled-bg-color: #3B4455;\n",
              "      --disabled-fill-color: #666;\n",
              "  }\n",
              "\n",
              "  .colab-df-quickchart {\n",
              "    background-color: var(--bg-color);\n",
              "    border: none;\n",
              "    border-radius: 50%;\n",
              "    cursor: pointer;\n",
              "    display: none;\n",
              "    fill: var(--fill-color);\n",
              "    height: 32px;\n",
              "    padding: 0;\n",
              "    width: 32px;\n",
              "  }\n",
              "\n",
              "  .colab-df-quickchart:hover {\n",
              "    background-color: var(--hover-bg-color);\n",
              "    box-shadow: 0 1px 2px rgba(60, 64, 67, 0.3), 0 1px 3px 1px rgba(60, 64, 67, 0.15);\n",
              "    fill: var(--button-hover-fill-color);\n",
              "  }\n",
              "\n",
              "  .colab-df-quickchart-complete:disabled,\n",
              "  .colab-df-quickchart-complete:disabled:hover {\n",
              "    background-color: var(--disabled-bg-color);\n",
              "    fill: var(--disabled-fill-color);\n",
              "    box-shadow: none;\n",
              "  }\n",
              "\n",
              "  .colab-df-spinner {\n",
              "    border: 2px solid var(--fill-color);\n",
              "    border-color: transparent;\n",
              "    border-bottom-color: var(--fill-color);\n",
              "    animation:\n",
              "      spin 1s steps(1) infinite;\n",
              "  }\n",
              "\n",
              "  @keyframes spin {\n",
              "    0% {\n",
              "      border-color: transparent;\n",
              "      border-bottom-color: var(--fill-color);\n",
              "      border-left-color: var(--fill-color);\n",
              "    }\n",
              "    20% {\n",
              "      border-color: transparent;\n",
              "      border-left-color: var(--fill-color);\n",
              "      border-top-color: var(--fill-color);\n",
              "    }\n",
              "    30% {\n",
              "      border-color: transparent;\n",
              "      border-left-color: var(--fill-color);\n",
              "      border-top-color: var(--fill-color);\n",
              "      border-right-color: var(--fill-color);\n",
              "    }\n",
              "    40% {\n",
              "      border-color: transparent;\n",
              "      border-right-color: var(--fill-color);\n",
              "      border-top-color: var(--fill-color);\n",
              "    }\n",
              "    60% {\n",
              "      border-color: transparent;\n",
              "      border-right-color: var(--fill-color);\n",
              "    }\n",
              "    80% {\n",
              "      border-color: transparent;\n",
              "      border-right-color: var(--fill-color);\n",
              "      border-bottom-color: var(--fill-color);\n",
              "    }\n",
              "    90% {\n",
              "      border-color: transparent;\n",
              "      border-bottom-color: var(--fill-color);\n",
              "    }\n",
              "  }\n",
              "</style>\n",
              "\n",
              "  <script>\n",
              "    async function quickchart(key) {\n",
              "      const quickchartButtonEl =\n",
              "        document.querySelector('#' + key + ' button');\n",
              "      quickchartButtonEl.disabled = true;  // To prevent multiple clicks.\n",
              "      quickchartButtonEl.classList.add('colab-df-spinner');\n",
              "      try {\n",
              "        const charts = await google.colab.kernel.invokeFunction(\n",
              "            'suggestCharts', [key], {});\n",
              "      } catch (error) {\n",
              "        console.error('Error during call to suggestCharts:', error);\n",
              "      }\n",
              "      quickchartButtonEl.classList.remove('colab-df-spinner');\n",
              "      quickchartButtonEl.classList.add('colab-df-quickchart-complete');\n",
              "    }\n",
              "    (() => {\n",
              "      let quickchartButtonEl =\n",
              "        document.querySelector('#df-a58c4a50-a18f-45f7-a45a-0de92fd07270 button');\n",
              "      quickchartButtonEl.style.display =\n",
              "        google.colab.kernel.accessAllowed ? 'block' : 'none';\n",
              "    })();\n",
              "  </script>\n",
              "</div>\n",
              "\n",
              "    </div>\n",
              "  </div>\n"
            ],
            "application/vnd.google.colaboratory.intrinsic+json": {
              "type": "dataframe",
              "variable_name": "new_dataset",
              "repr_error": "0"
            }
          },
          "metadata": {},
          "execution_count": 220
        }
      ]
    },
    {
      "cell_type": "code",
      "source": [
        "new_dataset.tail()"
      ],
      "metadata": {
        "colab": {
          "base_uri": "https://localhost:8080/",
          "height": 0
        },
        "id": "0MCsvUMBNeQK",
        "outputId": "f010e7e1-a321-42e3-bec1-19898812b847"
      },
      "execution_count": 221,
      "outputs": [
        {
          "output_type": "execute_result",
          "data": {
            "text/plain": [
              "     AccountBalance   LastLogin  Age  SuspiciousFlag     Amount  AnomalyScore  \\\n",
              "934     2462.046546  2024-08-01   51               0  58.179737      0.044342   \n",
              "940     2394.859954  2024-08-07   48               0  50.235850      0.175378   \n",
              "966     2417.248389  2024-09-02   54               0  16.266611      0.694634   \n",
              "984     4053.590461  2024-09-18   55               0  21.007402      0.204989   \n",
              "989     2240.517799  2024-09-21   38               0  72.132584      0.939216   \n",
              "\n",
              "     TransactionAmount  FraudIndicator Category            Timestamp  \n",
              "934          30.823268               1   Travel  2022-01-12 07:00:00  \n",
              "940          11.829615               1    Other  2022-02-03 01:00:00  \n",
              "966          34.856593               1   Travel  2022-01-31 13:00:00  \n",
              "984          21.473753               1   Online  2022-02-07 19:00:00  \n",
              "989          29.679255               1   Travel  2022-01-10 10:00:00  "
            ],
            "text/html": [
              "\n",
              "  <div id=\"df-ae348683-f4f7-4db2-9e96-acb2ec06b5af\" class=\"colab-df-container\">\n",
              "    <div>\n",
              "<style scoped>\n",
              "    .dataframe tbody tr th:only-of-type {\n",
              "        vertical-align: middle;\n",
              "    }\n",
              "\n",
              "    .dataframe tbody tr th {\n",
              "        vertical-align: top;\n",
              "    }\n",
              "\n",
              "    .dataframe thead th {\n",
              "        text-align: right;\n",
              "    }\n",
              "</style>\n",
              "<table border=\"1\" class=\"dataframe\">\n",
              "  <thead>\n",
              "    <tr style=\"text-align: right;\">\n",
              "      <th></th>\n",
              "      <th>AccountBalance</th>\n",
              "      <th>LastLogin</th>\n",
              "      <th>Age</th>\n",
              "      <th>SuspiciousFlag</th>\n",
              "      <th>Amount</th>\n",
              "      <th>AnomalyScore</th>\n",
              "      <th>TransactionAmount</th>\n",
              "      <th>FraudIndicator</th>\n",
              "      <th>Category</th>\n",
              "      <th>Timestamp</th>\n",
              "    </tr>\n",
              "  </thead>\n",
              "  <tbody>\n",
              "    <tr>\n",
              "      <th>934</th>\n",
              "      <td>2462.046546</td>\n",
              "      <td>2024-08-01</td>\n",
              "      <td>51</td>\n",
              "      <td>0</td>\n",
              "      <td>58.179737</td>\n",
              "      <td>0.044342</td>\n",
              "      <td>30.823268</td>\n",
              "      <td>1</td>\n",
              "      <td>Travel</td>\n",
              "      <td>2022-01-12 07:00:00</td>\n",
              "    </tr>\n",
              "    <tr>\n",
              "      <th>940</th>\n",
              "      <td>2394.859954</td>\n",
              "      <td>2024-08-07</td>\n",
              "      <td>48</td>\n",
              "      <td>0</td>\n",
              "      <td>50.235850</td>\n",
              "      <td>0.175378</td>\n",
              "      <td>11.829615</td>\n",
              "      <td>1</td>\n",
              "      <td>Other</td>\n",
              "      <td>2022-02-03 01:00:00</td>\n",
              "    </tr>\n",
              "    <tr>\n",
              "      <th>966</th>\n",
              "      <td>2417.248389</td>\n",
              "      <td>2024-09-02</td>\n",
              "      <td>54</td>\n",
              "      <td>0</td>\n",
              "      <td>16.266611</td>\n",
              "      <td>0.694634</td>\n",
              "      <td>34.856593</td>\n",
              "      <td>1</td>\n",
              "      <td>Travel</td>\n",
              "      <td>2022-01-31 13:00:00</td>\n",
              "    </tr>\n",
              "    <tr>\n",
              "      <th>984</th>\n",
              "      <td>4053.590461</td>\n",
              "      <td>2024-09-18</td>\n",
              "      <td>55</td>\n",
              "      <td>0</td>\n",
              "      <td>21.007402</td>\n",
              "      <td>0.204989</td>\n",
              "      <td>21.473753</td>\n",
              "      <td>1</td>\n",
              "      <td>Online</td>\n",
              "      <td>2022-02-07 19:00:00</td>\n",
              "    </tr>\n",
              "    <tr>\n",
              "      <th>989</th>\n",
              "      <td>2240.517799</td>\n",
              "      <td>2024-09-21</td>\n",
              "      <td>38</td>\n",
              "      <td>0</td>\n",
              "      <td>72.132584</td>\n",
              "      <td>0.939216</td>\n",
              "      <td>29.679255</td>\n",
              "      <td>1</td>\n",
              "      <td>Travel</td>\n",
              "      <td>2022-01-10 10:00:00</td>\n",
              "    </tr>\n",
              "  </tbody>\n",
              "</table>\n",
              "</div>\n",
              "    <div class=\"colab-df-buttons\">\n",
              "\n",
              "  <div class=\"colab-df-container\">\n",
              "    <button class=\"colab-df-convert\" onclick=\"convertToInteractive('df-ae348683-f4f7-4db2-9e96-acb2ec06b5af')\"\n",
              "            title=\"Convert this dataframe to an interactive table.\"\n",
              "            style=\"display:none;\">\n",
              "\n",
              "  <svg xmlns=\"http://www.w3.org/2000/svg\" height=\"24px\" viewBox=\"0 -960 960 960\">\n",
              "    <path d=\"M120-120v-720h720v720H120Zm60-500h600v-160H180v160Zm220 220h160v-160H400v160Zm0 220h160v-160H400v160ZM180-400h160v-160H180v160Zm440 0h160v-160H620v160ZM180-180h160v-160H180v160Zm440 0h160v-160H620v160Z\"/>\n",
              "  </svg>\n",
              "    </button>\n",
              "\n",
              "  <style>\n",
              "    .colab-df-container {\n",
              "      display:flex;\n",
              "      gap: 12px;\n",
              "    }\n",
              "\n",
              "    .colab-df-convert {\n",
              "      background-color: #E8F0FE;\n",
              "      border: none;\n",
              "      border-radius: 50%;\n",
              "      cursor: pointer;\n",
              "      display: none;\n",
              "      fill: #1967D2;\n",
              "      height: 32px;\n",
              "      padding: 0 0 0 0;\n",
              "      width: 32px;\n",
              "    }\n",
              "\n",
              "    .colab-df-convert:hover {\n",
              "      background-color: #E2EBFA;\n",
              "      box-shadow: 0px 1px 2px rgba(60, 64, 67, 0.3), 0px 1px 3px 1px rgba(60, 64, 67, 0.15);\n",
              "      fill: #174EA6;\n",
              "    }\n",
              "\n",
              "    .colab-df-buttons div {\n",
              "      margin-bottom: 4px;\n",
              "    }\n",
              "\n",
              "    [theme=dark] .colab-df-convert {\n",
              "      background-color: #3B4455;\n",
              "      fill: #D2E3FC;\n",
              "    }\n",
              "\n",
              "    [theme=dark] .colab-df-convert:hover {\n",
              "      background-color: #434B5C;\n",
              "      box-shadow: 0px 1px 3px 1px rgba(0, 0, 0, 0.15);\n",
              "      filter: drop-shadow(0px 1px 2px rgba(0, 0, 0, 0.3));\n",
              "      fill: #FFFFFF;\n",
              "    }\n",
              "  </style>\n",
              "\n",
              "    <script>\n",
              "      const buttonEl =\n",
              "        document.querySelector('#df-ae348683-f4f7-4db2-9e96-acb2ec06b5af button.colab-df-convert');\n",
              "      buttonEl.style.display =\n",
              "        google.colab.kernel.accessAllowed ? 'block' : 'none';\n",
              "\n",
              "      async function convertToInteractive(key) {\n",
              "        const element = document.querySelector('#df-ae348683-f4f7-4db2-9e96-acb2ec06b5af');\n",
              "        const dataTable =\n",
              "          await google.colab.kernel.invokeFunction('convertToInteractive',\n",
              "                                                    [key], {});\n",
              "        if (!dataTable) return;\n",
              "\n",
              "        const docLinkHtml = 'Like what you see? Visit the ' +\n",
              "          '<a target=\"_blank\" href=https://colab.research.google.com/notebooks/data_table.ipynb>data table notebook</a>'\n",
              "          + ' to learn more about interactive tables.';\n",
              "        element.innerHTML = '';\n",
              "        dataTable['output_type'] = 'display_data';\n",
              "        await google.colab.output.renderOutput(dataTable, element);\n",
              "        const docLink = document.createElement('div');\n",
              "        docLink.innerHTML = docLinkHtml;\n",
              "        element.appendChild(docLink);\n",
              "      }\n",
              "    </script>\n",
              "  </div>\n",
              "\n",
              "\n",
              "<div id=\"df-1de80279-6fe8-4a59-a782-13fef24deb54\">\n",
              "  <button class=\"colab-df-quickchart\" onclick=\"quickchart('df-1de80279-6fe8-4a59-a782-13fef24deb54')\"\n",
              "            title=\"Suggest charts\"\n",
              "            style=\"display:none;\">\n",
              "\n",
              "<svg xmlns=\"http://www.w3.org/2000/svg\" height=\"24px\"viewBox=\"0 0 24 24\"\n",
              "     width=\"24px\">\n",
              "    <g>\n",
              "        <path d=\"M19 3H5c-1.1 0-2 .9-2 2v14c0 1.1.9 2 2 2h14c1.1 0 2-.9 2-2V5c0-1.1-.9-2-2-2zM9 17H7v-7h2v7zm4 0h-2V7h2v10zm4 0h-2v-4h2v4z\"/>\n",
              "    </g>\n",
              "</svg>\n",
              "  </button>\n",
              "\n",
              "<style>\n",
              "  .colab-df-quickchart {\n",
              "      --bg-color: #E8F0FE;\n",
              "      --fill-color: #1967D2;\n",
              "      --hover-bg-color: #E2EBFA;\n",
              "      --hover-fill-color: #174EA6;\n",
              "      --disabled-fill-color: #AAA;\n",
              "      --disabled-bg-color: #DDD;\n",
              "  }\n",
              "\n",
              "  [theme=dark] .colab-df-quickchart {\n",
              "      --bg-color: #3B4455;\n",
              "      --fill-color: #D2E3FC;\n",
              "      --hover-bg-color: #434B5C;\n",
              "      --hover-fill-color: #FFFFFF;\n",
              "      --disabled-bg-color: #3B4455;\n",
              "      --disabled-fill-color: #666;\n",
              "  }\n",
              "\n",
              "  .colab-df-quickchart {\n",
              "    background-color: var(--bg-color);\n",
              "    border: none;\n",
              "    border-radius: 50%;\n",
              "    cursor: pointer;\n",
              "    display: none;\n",
              "    fill: var(--fill-color);\n",
              "    height: 32px;\n",
              "    padding: 0;\n",
              "    width: 32px;\n",
              "  }\n",
              "\n",
              "  .colab-df-quickchart:hover {\n",
              "    background-color: var(--hover-bg-color);\n",
              "    box-shadow: 0 1px 2px rgba(60, 64, 67, 0.3), 0 1px 3px 1px rgba(60, 64, 67, 0.15);\n",
              "    fill: var(--button-hover-fill-color);\n",
              "  }\n",
              "\n",
              "  .colab-df-quickchart-complete:disabled,\n",
              "  .colab-df-quickchart-complete:disabled:hover {\n",
              "    background-color: var(--disabled-bg-color);\n",
              "    fill: var(--disabled-fill-color);\n",
              "    box-shadow: none;\n",
              "  }\n",
              "\n",
              "  .colab-df-spinner {\n",
              "    border: 2px solid var(--fill-color);\n",
              "    border-color: transparent;\n",
              "    border-bottom-color: var(--fill-color);\n",
              "    animation:\n",
              "      spin 1s steps(1) infinite;\n",
              "  }\n",
              "\n",
              "  @keyframes spin {\n",
              "    0% {\n",
              "      border-color: transparent;\n",
              "      border-bottom-color: var(--fill-color);\n",
              "      border-left-color: var(--fill-color);\n",
              "    }\n",
              "    20% {\n",
              "      border-color: transparent;\n",
              "      border-left-color: var(--fill-color);\n",
              "      border-top-color: var(--fill-color);\n",
              "    }\n",
              "    30% {\n",
              "      border-color: transparent;\n",
              "      border-left-color: var(--fill-color);\n",
              "      border-top-color: var(--fill-color);\n",
              "      border-right-color: var(--fill-color);\n",
              "    }\n",
              "    40% {\n",
              "      border-color: transparent;\n",
              "      border-right-color: var(--fill-color);\n",
              "      border-top-color: var(--fill-color);\n",
              "    }\n",
              "    60% {\n",
              "      border-color: transparent;\n",
              "      border-right-color: var(--fill-color);\n",
              "    }\n",
              "    80% {\n",
              "      border-color: transparent;\n",
              "      border-right-color: var(--fill-color);\n",
              "      border-bottom-color: var(--fill-color);\n",
              "    }\n",
              "    90% {\n",
              "      border-color: transparent;\n",
              "      border-bottom-color: var(--fill-color);\n",
              "    }\n",
              "  }\n",
              "</style>\n",
              "\n",
              "  <script>\n",
              "    async function quickchart(key) {\n",
              "      const quickchartButtonEl =\n",
              "        document.querySelector('#' + key + ' button');\n",
              "      quickchartButtonEl.disabled = true;  // To prevent multiple clicks.\n",
              "      quickchartButtonEl.classList.add('colab-df-spinner');\n",
              "      try {\n",
              "        const charts = await google.colab.kernel.invokeFunction(\n",
              "            'suggestCharts', [key], {});\n",
              "      } catch (error) {\n",
              "        console.error('Error during call to suggestCharts:', error);\n",
              "      }\n",
              "      quickchartButtonEl.classList.remove('colab-df-spinner');\n",
              "      quickchartButtonEl.classList.add('colab-df-quickchart-complete');\n",
              "    }\n",
              "    (() => {\n",
              "      let quickchartButtonEl =\n",
              "        document.querySelector('#df-1de80279-6fe8-4a59-a782-13fef24deb54 button');\n",
              "      quickchartButtonEl.style.display =\n",
              "        google.colab.kernel.accessAllowed ? 'block' : 'none';\n",
              "    })();\n",
              "  </script>\n",
              "</div>\n",
              "\n",
              "    </div>\n",
              "  </div>\n"
            ],
            "application/vnd.google.colaboratory.intrinsic+json": {
              "type": "dataframe",
              "repr_error": "0"
            }
          },
          "metadata": {},
          "execution_count": 221
        }
      ]
    },
    {
      "cell_type": "code",
      "source": [
        "new_dataset[\"FraudIndicator\"].value_counts()"
      ],
      "metadata": {
        "colab": {
          "base_uri": "https://localhost:8080/",
          "height": 0
        },
        "id": "DCQ4kj3TNgF2",
        "outputId": "1f2d7e34-0772-4187-e484-42aafc69bf3a"
      },
      "execution_count": 222,
      "outputs": [
        {
          "output_type": "execute_result",
          "data": {
            "text/plain": [
              "FraudIndicator\n",
              "0    155\n",
              "1     45\n",
              "Name: count, dtype: int64"
            ],
            "text/html": [
              "<div>\n",
              "<style scoped>\n",
              "    .dataframe tbody tr th:only-of-type {\n",
              "        vertical-align: middle;\n",
              "    }\n",
              "\n",
              "    .dataframe tbody tr th {\n",
              "        vertical-align: top;\n",
              "    }\n",
              "\n",
              "    .dataframe thead th {\n",
              "        text-align: right;\n",
              "    }\n",
              "</style>\n",
              "<table border=\"1\" class=\"dataframe\">\n",
              "  <thead>\n",
              "    <tr style=\"text-align: right;\">\n",
              "      <th></th>\n",
              "      <th>count</th>\n",
              "    </tr>\n",
              "    <tr>\n",
              "      <th>FraudIndicator</th>\n",
              "      <th></th>\n",
              "    </tr>\n",
              "  </thead>\n",
              "  <tbody>\n",
              "    <tr>\n",
              "      <th>0</th>\n",
              "      <td>155</td>\n",
              "    </tr>\n",
              "    <tr>\n",
              "      <th>1</th>\n",
              "      <td>45</td>\n",
              "    </tr>\n",
              "  </tbody>\n",
              "</table>\n",
              "</div><br><label><b>dtype:</b> int64</label>"
            ]
          },
          "metadata": {},
          "execution_count": 222
        }
      ]
    },
    {
      "source": [
        "new_dataset['LastLogin'] = pd.to_datetime(new_dataset['LastLogin'], errors='coerce')\n",
        "new_dataset['Timestamp'] = pd.to_datetime(new_dataset['Timestamp'], errors='coerce')\n",
        "numeric_features = new_dataset.select_dtypes(include=np.number).columns\n",
        "result1 = new_dataset[numeric_features].groupby(\"FraudIndicator\").mean()\n",
        "print(result1)"
      ],
      "cell_type": "code",
      "metadata": {
        "colab": {
          "base_uri": "https://localhost:8080/"
        },
        "id": "rTdG7qgIOiN4",
        "outputId": "85b91601-57ce-42eb-8bf5-ee9fb7addbef"
      },
      "execution_count": 223,
      "outputs": [
        {
          "output_type": "stream",
          "name": "stdout",
          "text": [
            "                AccountBalance        Age  SuspiciousFlag     Amount  \\\n",
            "FraudIndicator                                                         \n",
            "0                  5762.977019  39.683871        0.019355  54.877309   \n",
            "1                  5664.097017  38.555556        0.066667  57.083189   \n",
            "\n",
            "                AnomalyScore  TransactionAmount  \n",
            "FraudIndicator                                   \n",
            "0                   0.504045          55.303034  \n",
            "1                   0.428274          51.834135  \n"
          ]
        }
      ]
    },
    {
      "source": [
        "for col in [\"LastLogin\", \"Timestamp\"]:\n",
        "    if col in new_dataset.columns:\n",
        "        new_dataset[col] = pd.to_datetime(new_dataset[col], errors='coerce')\n",
        "        new_dataset[col + \"_year\"] = new_dataset[col].dt.year\n",
        "        new_dataset[col + \"_month\"] = new_dataset[col].dt.month\n",
        "        new_dataset[col + \"_day\"] = new_dataset[col].dt.day\n",
        "        new_dataset[col + \"_hour\"] = new_dataset[col].dt.hour\n",
        "        new_dataset = new_dataset.drop(columns=[col])"
      ],
      "cell_type": "code",
      "metadata": {
        "id": "FDcJ1-44Vy89"
      },
      "execution_count": 224,
      "outputs": []
    },
    {
      "cell_type": "code",
      "source": [
        "from sklearn.compose import ColumnTransformer\n",
        "from sklearn.preprocessing import OneHotEncoder\n",
        "ct = ColumnTransformer(transformers = [(\"encoder\", OneHotEncoder(), [7])], remainder = \"passthrough\")\n",
        "new_dataset.info()\n",
        "print(new_dataset.head())\n",
        "x = new_dataset.iloc[:,:].values\n",
        "x = np.array(ct.fit_transform(x))\n",
        "new_dataset = pd.DataFrame(x)\n",
        "print(new_dataset.head())"
      ],
      "metadata": {
        "colab": {
          "base_uri": "https://localhost:8080/"
        },
        "id": "yxPlhlh1e2Qk",
        "outputId": "1c4916fd-e850-4b62-8d7e-daa5ca390f8d"
      },
      "execution_count": 225,
      "outputs": [
        {
          "output_type": "stream",
          "name": "stdout",
          "text": [
            "<class 'pandas.core.frame.DataFrame'>\n",
            "Index: 200 entries, 32 to 989\n",
            "Data columns (total 16 columns):\n",
            " #   Column             Non-Null Count  Dtype  \n",
            "---  ------             --------------  -----  \n",
            " 0   AccountBalance     200 non-null    float64\n",
            " 1   Age                200 non-null    int64  \n",
            " 2   SuspiciousFlag     200 non-null    int64  \n",
            " 3   Amount             200 non-null    float64\n",
            " 4   AnomalyScore       200 non-null    float64\n",
            " 5   TransactionAmount  200 non-null    float64\n",
            " 6   FraudIndicator     200 non-null    int64  \n",
            " 7   Category           200 non-null    object \n",
            " 8   LastLogin_year     200 non-null    int32  \n",
            " 9   LastLogin_month    200 non-null    int32  \n",
            " 10  LastLogin_day      200 non-null    int32  \n",
            " 11  LastLogin_hour     200 non-null    int32  \n",
            " 12  Timestamp_year     200 non-null    int32  \n",
            " 13  Timestamp_month    200 non-null    int32  \n",
            " 14  Timestamp_day      200 non-null    int32  \n",
            " 15  Timestamp_hour     200 non-null    int32  \n",
            "dtypes: float64(4), int32(8), int64(3), object(1)\n",
            "memory usage: 28.4+ KB\n",
            "     AccountBalance  Age  SuspiciousFlag     Amount  AnomalyScore  \\\n",
            "32      3767.557888   54               0  59.350990      0.790492   \n",
            "596     1150.295949   53               0  68.161513      0.106593   \n",
            "139     5038.910017   63               0  61.193746      0.429079   \n",
            "9       2706.148888   45               0  61.658995      0.264580   \n",
            "155     3214.341695   63               0  70.344273      0.205206   \n",
            "\n",
            "     TransactionAmount  FraudIndicator Category  LastLogin_year  \\\n",
            "32           16.316389               0    Other            2022   \n",
            "596          39.025706               0   Retail            2023   \n",
            "139          75.353721               0    Other            2022   \n",
            "9            97.486882               0   Online            2022   \n",
            "155          97.632391               0    Other            2022   \n",
            "\n",
            "     LastLogin_month  LastLogin_day  LastLogin_hour  Timestamp_year  \\\n",
            "32                 1             30               0            2022   \n",
            "596                8             18               0            2022   \n",
            "139                5             18               0            2022   \n",
            "9                  1             12               0            2022   \n",
            "155                5             28               0            2022   \n",
            "\n",
            "     Timestamp_month  Timestamp_day  Timestamp_hour  \n",
            "32                 1              2               8  \n",
            "596                1             26              17  \n",
            "139                2              9              16  \n",
            "9                  1              5               5  \n",
            "155                1             31              20  \n",
            "    0    1    2    3    4            5   6  7          8         9   \\\n",
            "0  0.0  0.0  1.0  0.0  0.0  3767.557888  54  0   59.35099  0.790492   \n",
            "1  0.0  0.0  0.0  1.0  0.0  1150.295949  53  0  68.161513  0.106593   \n",
            "2  0.0  0.0  1.0  0.0  0.0  5038.910017  63  0  61.193746  0.429079   \n",
            "3  0.0  1.0  0.0  0.0  0.0  2706.148888  45  0  61.658995   0.26458   \n",
            "4  0.0  0.0  1.0  0.0  0.0  3214.341695  63  0  70.344273  0.205206   \n",
            "\n",
            "          10 11    12 13  14 15    16 17  18  19  \n",
            "0  16.316389  0  2022  1  30  0  2022  1   2   8  \n",
            "1  39.025706  0  2023  8  18  0  2022  1  26  17  \n",
            "2  75.353721  0  2022  5  18  0  2022  2   9  16  \n",
            "3  97.486882  0  2022  1  12  0  2022  1   5   5  \n",
            "4  97.632391  0  2022  5  28  0  2022  1  31  20  \n"
          ]
        }
      ]
    },
    {
      "cell_type": "code",
      "source": [
        "new_dataset[11] = pd.to_numeric(new_dataset[11])"
      ],
      "metadata": {
        "id": "nIuNx-LdAp8D"
      },
      "execution_count": 226,
      "outputs": []
    },
    {
      "cell_type": "markdown",
      "source": [
        "\n",
        "\n",
        "# Splitting of Dataset for Training and Testing\n",
        "\n"
      ],
      "metadata": {
        "id": "AXjNpAlSQrXP"
      }
    },
    {
      "cell_type": "code",
      "source": [
        "from sklearn.model_selection import train_test_split\n",
        "y = new_dataset.iloc[:,11].values\n",
        "x = new_dataset.drop(11, axis = 1)\n",
        "x_train,x_test,y_train,y_test = train_test_split(x,y,test_size=0.2,random_state = 2, stratify = y)"
      ],
      "metadata": {
        "id": "j8rlW-2fR_jh"
      },
      "execution_count": 227,
      "outputs": []
    },
    {
      "cell_type": "code",
      "source": [
        "print(x.shape,x_train.shape,x_test.shape)\n",
        "print(y.shape,y_train.shape,y_test.shape)"
      ],
      "metadata": {
        "colab": {
          "base_uri": "https://localhost:8080/"
        },
        "id": "FMOcTPF2TKDL",
        "outputId": "5bde065c-d6f8-419d-f046-b84c636d240a"
      },
      "execution_count": 228,
      "outputs": [
        {
          "output_type": "stream",
          "name": "stdout",
          "text": [
            "(200, 19) (160, 19) (40, 19)\n",
            "(200,) (160,) (40,)\n"
          ]
        }
      ]
    },
    {
      "cell_type": "markdown",
      "source": [
        "# **IMPLEMENTING CLASSIFICATION ALGORITHMS**"
      ],
      "metadata": {
        "id": "BAOcNh_1QNXH"
      }
    },
    {
      "cell_type": "markdown",
      "source": [
        "## 1.Logistic Regression\n",
        "\n"
      ],
      "metadata": {
        "id": "E2noszC8TZB6"
      }
    },
    {
      "cell_type": "markdown",
      "source": [
        "### Model Training"
      ],
      "metadata": {
        "id": "y4CUzoU6U4hb"
      }
    },
    {
      "cell_type": "code",
      "source": [
        "from sklearn.linear_model import LogisticRegression\n",
        "from sklearn.preprocessing import StandardScaler\n",
        "#from sklearn.metrics import accuracy_score\n",
        "model = LogisticRegression()\n",
        "model.fit(x_train,y_train)\n",
        "sc = StandardScaler()\n",
        "x_train = sc.fit_transform(x_train)\n",
        "x_test = sc.transform(x_test)\n",
        "y_train_pred = model.predict(x_train)\n",
        "y_test_pred = model.predict(x_test)"
      ],
      "metadata": {
        "colab": {
          "base_uri": "https://localhost:8080/"
        },
        "id": "Ua2L1CVPUxPc",
        "outputId": "e9b9c38b-2f4d-4c6b-80cd-b05162c2af0f"
      },
      "execution_count": 229,
      "outputs": [
        {
          "output_type": "stream",
          "name": "stderr",
          "text": [
            "/usr/local/lib/python3.10/dist-packages/sklearn/linear_model/_logistic.py:460: ConvergenceWarning: lbfgs failed to converge (status=1):\n",
            "STOP: TOTAL NO. of ITERATIONS REACHED LIMIT.\n",
            "\n",
            "Increase the number of iterations (max_iter) or scale the data as shown in:\n",
            "    https://scikit-learn.org/stable/modules/preprocessing.html\n",
            "Please also refer to the documentation for alternative solver options:\n",
            "    https://scikit-learn.org/stable/modules/linear_model.html#logistic-regression\n",
            "  n_iter_i = _check_optimize_result(\n"
          ]
        }
      ]
    },
    {
      "cell_type": "markdown",
      "source": [
        "### Evaluation"
      ],
      "metadata": {
        "id": "liGmaeH60nZ9"
      }
    },
    {
      "cell_type": "code",
      "source": [
        "from sklearn.metrics import confusion_matrix,accuracy_score\n",
        "training_data_accuracy = accuracy_score(y_train,y_train_pred)\n",
        "test_data_accuracy = accuracy_score(y_test,y_test_pred)\n",
        "print(training_data_accuracy)\n",
        "print(test_data_accuracy)"
      ],
      "metadata": {
        "colab": {
          "base_uri": "https://localhost:8080/"
        },
        "id": "esG2QgMc0rbO",
        "outputId": "659879d6-53ab-420c-9469-768b3deac522"
      },
      "execution_count": 230,
      "outputs": [
        {
          "output_type": "stream",
          "name": "stdout",
          "text": [
            "0.55625\n",
            "0.475\n"
          ]
        }
      ]
    },
    {
      "cell_type": "markdown",
      "source": [
        "## 2.Random Forest\n",
        "\n",
        "\n"
      ],
      "metadata": {
        "id": "x0A5BNgOCwNZ"
      }
    },
    {
      "cell_type": "markdown",
      "source": [
        "### Model Training"
      ],
      "metadata": {
        "id": "kuARvTJAD6Gb"
      }
    },
    {
      "cell_type": "code",
      "source": [
        "from sklearn.ensemble import RandomForestClassifier\n",
        "classifier = RandomForestClassifier(n_estimators=10,criterion='entropy',random_state=0)\n",
        "classifier.fit(x_train,y_train)\n",
        "y_train_pred = classifier.predict(x_train)\n",
        "y_test_pred = classifier.predict(x_test)"
      ],
      "metadata": {
        "id": "pfSoNA2FDMWV"
      },
      "execution_count": 231,
      "outputs": []
    },
    {
      "cell_type": "markdown",
      "source": [
        "### Evaluation"
      ],
      "metadata": {
        "id": "nlCsm6lzEOGl"
      }
    },
    {
      "cell_type": "code",
      "source": [
        "from sklearn.metrics import confusion_matrix,accuracy_score\n",
        "training_data_accuracy = accuracy_score(y_train,y_train_pred)\n",
        "test_data_accuracy = accuracy_score(y_test,y_test_pred)\n",
        "print(training_data_accuracy)\n",
        "print(test_data_accuracy)"
      ],
      "metadata": {
        "colab": {
          "base_uri": "https://localhost:8080/"
        },
        "id": "KCx46CbsES-v",
        "outputId": "8125a92d-47a9-4d1e-8e6d-1f06ee0a365b"
      },
      "execution_count": 232,
      "outputs": [
        {
          "output_type": "stream",
          "name": "stdout",
          "text": [
            "0.98125\n",
            "0.75\n"
          ]
        }
      ]
    },
    {
      "cell_type": "markdown",
      "source": [
        "## 3.XGboost"
      ],
      "metadata": {
        "id": "Y22jP7KLJkUl"
      }
    },
    {
      "cell_type": "markdown",
      "source": [
        "### Model Training and Evaluation"
      ],
      "metadata": {
        "id": "kH8_yhbDKl3W"
      }
    },
    {
      "cell_type": "code",
      "source": [
        "from xgboost import XGBClassifier\n",
        "from sklearn.model_selection import cross_val_score\n",
        "\n",
        "def cross_val(classifier, num_splits=10):\n",
        "    x_numeric = x.apply(pd.to_numeric, errors='coerce')\n",
        "    scores = cross_val_score(classifier, x_numeric, y, cv=num_splits)\n",
        "    print(np.round(scores, 2))\n",
        "    print(np.mean(scores))\n",
        "\n",
        "cross_val(XGBClassifier(n_estimators=5, random_state=2))"
      ],
      "metadata": {
        "colab": {
          "base_uri": "https://localhost:8080/"
        },
        "id": "bosnw-0aJz2U",
        "outputId": "586b8c03-2780-4ddd-8e2d-0653d3ae840a"
      },
      "execution_count": 233,
      "outputs": [
        {
          "output_type": "stream",
          "name": "stdout",
          "text": [
            "[0.8  0.85 0.75 0.8  0.75 0.7  0.65 0.6  0.7  0.7 ]\n",
            "0.7300000000000001\n"
          ]
        }
      ]
    },
    {
      "cell_type": "markdown",
      "source": [
        "## 4.LightGBM"
      ],
      "metadata": {
        "id": "2iDmPef0jvOy"
      }
    },
    {
      "cell_type": "markdown",
      "source": [
        "### Model Training"
      ],
      "metadata": {
        "id": "aGIzPLQSkAYI"
      }
    },
    {
      "cell_type": "code",
      "source": [
        "import lightgbm as lgb\n",
        "\n",
        "train_data = lgb.Dataset(x_train, label=y_train)\n",
        "test_data = lgb.Dataset(x_test, label=y_test)\n",
        "parameters = {\n",
        "    'is_unbalance': 'true',\n",
        "    'objective': 'binary',\n",
        "    'metric': 'auc',\n",
        "    'boosting': 'gbdt',\n",
        "    'num_leaves': 63,\n",
        "    'feature_fraction': 0.5,\n",
        "    'bagging_fraction': 0.5,\n",
        "    'bagging_freq': 20,\n",
        "    'learning_rate': 0.01,\n",
        "    'verbose': -1\n",
        "}\n",
        "model = lgb.train(parameters, train_data, valid_sets=test_data, num_boost_round=5000, callbacks=[lgb.early_stopping(stopping_rounds=50)])\n",
        "y_train_pred = model.predict(x_train)\n",
        "y_test_pred = model.predict(x_test)"
      ],
      "metadata": {
        "colab": {
          "base_uri": "https://localhost:8080/"
        },
        "id": "iNOlaXfWkIXa",
        "outputId": "895a8c95-4326-4024-dac9-39df93ffb0ff"
      },
      "execution_count": 234,
      "outputs": [
        {
          "output_type": "stream",
          "name": "stdout",
          "text": [
            "Training until validation scores don't improve for 50 rounds\n",
            "Early stopping, best iteration is:\n",
            "[15]\tvalid_0's auc: 0.603943\n"
          ]
        }
      ]
    },
    {
      "cell_type": "markdown",
      "source": [
        "### Evaluation"
      ],
      "metadata": {
        "id": "OaKqRMV8kJd7"
      }
    },
    {
      "cell_type": "code",
      "source": [
        "from sklearn.metrics import roc_auc_score\n",
        "training_data_accuracy = roc_auc_score(y_train,y_train_pred)\n",
        "test_data_accuracy = roc_auc_score(y_test,y_test_pred)\n",
        "print(training_data_accuracy)\n",
        "print(test_data_accuracy)"
      ],
      "metadata": {
        "colab": {
          "base_uri": "https://localhost:8080/"
        },
        "id": "DUgfhbqVkM1A",
        "outputId": "260430da-748e-4b4f-c24a-f7f082bcac15"
      },
      "execution_count": 235,
      "outputs": [
        {
          "output_type": "stream",
          "name": "stdout",
          "text": [
            "0.7445116487455198\n",
            "0.6039426523297491\n"
          ]
        }
      ]
    },
    {
      "cell_type": "markdown",
      "source": [
        "## 5.Support Vector Machine"
      ],
      "metadata": {
        "id": "zi-9ufNwdOnr"
      }
    },
    {
      "cell_type": "markdown",
      "source": [
        "### Model Training"
      ],
      "metadata": {
        "id": "dU73DA1DdXmu"
      }
    },
    {
      "cell_type": "code",
      "source": [
        "from sklearn import svm\n",
        "classifier = svm.SVC(kernel = 'linear',gamma = 'auto', C = 2)\n",
        "classifier.fit(x_train,y_train)\n",
        "y_train_pred = classifier.predict(x_train)\n",
        "y_test_pred = classifier.predict(x_test)"
      ],
      "metadata": {
        "id": "H2LMAatjdbZU"
      },
      "execution_count": 236,
      "outputs": []
    },
    {
      "cell_type": "markdown",
      "source": [
        "### Evaluation"
      ],
      "metadata": {
        "id": "6IMHgeEcdcNf"
      }
    },
    {
      "cell_type": "code",
      "source": [
        "from sklearn.metrics import accuracy_score\n",
        "from sklearn.metrics import classification_report\n",
        "\n",
        "training_data_accuracy = accuracy_score(y_train,y_train_pred)\n",
        "test_data_accuracy = accuracy_score(y_test,y_test_pred)\n",
        "print(training_data_accuracy)\n",
        "print(test_data_accuracy)\n",
        "print(classification_report(y_test, y_test_pred))\n",
        "print(classification_report(y_train, y_train_pred))"
      ],
      "metadata": {
        "colab": {
          "base_uri": "https://localhost:8080/"
        },
        "id": "Ch2v5Pn9dhQk",
        "outputId": "ee2de409-a495-4562-8557-0972ba82b371"
      },
      "execution_count": 237,
      "outputs": [
        {
          "output_type": "stream",
          "name": "stdout",
          "text": [
            "0.78125\n",
            "0.75\n",
            "              precision    recall  f1-score   support\n",
            "\n",
            "           0       0.78      0.94      0.85        31\n",
            "           1       0.33      0.11      0.17         9\n",
            "\n",
            "    accuracy                           0.75        40\n",
            "   macro avg       0.56      0.52      0.51        40\n",
            "weighted avg       0.68      0.75      0.70        40\n",
            "\n",
            "              precision    recall  f1-score   support\n",
            "\n",
            "           0       0.78      0.99      0.88       124\n",
            "           1       0.67      0.06      0.10        36\n",
            "\n",
            "    accuracy                           0.78       160\n",
            "   macro avg       0.73      0.52      0.49       160\n",
            "weighted avg       0.76      0.78      0.70       160\n",
            "\n"
          ]
        }
      ]
    },
    {
      "cell_type": "markdown",
      "source": [
        "## 6.Neural Network"
      ],
      "metadata": {
        "id": "oDLEWjRqjwGv"
      }
    },
    {
      "cell_type": "markdown",
      "source": [
        "### Model Training"
      ],
      "metadata": {
        "id": "_ypoh6Vvj4-2"
      }
    },
    {
      "cell_type": "code",
      "source": [
        "import torch\n",
        "import torch.nn as nn\n",
        "import torch.nn.functional as F\n",
        "from torch.utils.data import DataLoader, TensorDataset\n",
        "\n",
        "class Model(nn.Module):\n",
        "  def __init__(self, in_features=19, h1=8, h2=9, out_features=2):\n",
        "    super().__init__()\n",
        "    self.fc1 = nn.Linear(in_features, h1)\n",
        "    self.fc2 = nn.Linear(h1, h2)\n",
        "    self.out = nn.Linear(h2, out_features)\n",
        "  def forward(self, x):\n",
        "    x = F.relu(self.fc1(x))\n",
        "    x = F.relu(self.fc2(x))\n",
        "    x = self.out(x)\n",
        "    return x\n",
        "\n",
        "torch.manual_seed(2)\n",
        "model = Model()\n",
        "\n",
        "x_train1 = torch.tensor(x_train.astype(np.float32), dtype=torch.float32)\n",
        "x_test1 = torch.tensor(x_test.astype(np.float32), dtype=torch.float32)\n",
        "y_train1 = torch.LongTensor(y_train)\n",
        "y_test1 = torch.LongTensor(y_test)\n",
        "\n",
        "criterion = nn.CrossEntropyLoss()\n",
        "optimizer = torch.optim.Adam(model.parameters(), lr = 0.01)\n",
        "epochs = 1000\n",
        "losses = []\n",
        "for i in range(epochs):\n",
        "  y_train_pred = model.forward(x_train1)\n",
        "  loss = criterion(y_train_pred, y_train1)\n",
        "  losses.append(loss.detach().numpy())\n",
        "  if i%100 ==0:\n",
        "    print(f'epoch: {i:2}  loss: {loss.item():10.8f}')\n",
        "  optimizer.zero_grad()\n",
        "  loss.backward()\n",
        "  optimizer.step()\n",
        "plt.plot(range(epochs), losses)\n",
        "plt.ylabel('Loss')\n",
        "plt.xlabel('epoch')\n",
        "plt.show()"
      ],
      "metadata": {
        "colab": {
          "base_uri": "https://localhost:8080/",
          "height": 623
        },
        "id": "paZn7WRBj8Xg",
        "outputId": "e8407016-3b57-442a-bd66-a2c44a79df25"
      },
      "execution_count": 248,
      "outputs": [
        {
          "output_type": "stream",
          "name": "stdout",
          "text": [
            "epoch:  0  loss: 0.61817533\n",
            "epoch: 100  loss: 0.06501384\n",
            "epoch: 200  loss: 0.02641175\n",
            "epoch: 300  loss: 0.02459395\n",
            "epoch: 400  loss: 0.02323138\n",
            "epoch: 500  loss: 0.02134362\n",
            "epoch: 600  loss: 0.01894948\n",
            "epoch: 700  loss: 0.01630829\n",
            "epoch: 800  loss: 0.01589823\n",
            "epoch: 900  loss: 0.01577277\n"
          ]
        },
        {
          "output_type": "display_data",
          "data": {
            "text/plain": [
              "<Figure size 640x480 with 1 Axes>"
            ],
            "image/png": "[encoded data removed]"
          },
          "metadata": {}
        }
      ]
    },
    {
      "cell_type": "markdown",
      "source": [
        "### Evaluation"
      ],
      "metadata": {
        "id": "KrUeZETgj8t2"
      }
    },
    {
      "cell_type": "code",
      "source": [
        "with torch.no_grad():\n",
        "  y_eval = model.forward(x_test1)\n",
        "  loss = criterion(y_eval, y_test1)\n",
        "print(loss)"
      ],
      "metadata": {
        "colab": {
          "base_uri": "https://localhost:8080/"
        },
        "id": "kJnCJ9aTkBMW",
        "outputId": "6227c4eb-b280-4d25-e97f-b3592290dfab"
      },
      "execution_count": 249,
      "outputs": [
        {
          "output_type": "stream",
          "name": "stdout",
          "text": [
            "tensor(7.0583)\n"
          ]
        }
      ]
    },
    {
      "cell_type": "code",
      "source": [
        "correct = 0\n",
        "with torch.no_grad():\n",
        "  for i, data in enumerate(x_test1):\n",
        "    y_val = model.forward(data)\n",
        "    print(f'{i+1}.){str(y_val)} \\t {y_test[i]}')\n",
        "    if y_val.argmax().item() == y_test[i]:\n",
        "      correct += 1\n",
        "print(correct)\n",
        "print(f'Accuracy: {round(correct/len(y_test),3)}')"
      ],
      "metadata": {
        "colab": {
          "base_uri": "https://localhost:8080/"
        },
        "id": "kfRHHQIndVJV",
        "outputId": "4bd69b1f-f456-477d-ac47-08bd337056a1"
      },
      "execution_count": 250,
      "outputs": [
        {
          "output_type": "stream",
          "name": "stdout",
          "text": [
            "1.)tensor([ 13.0983, -11.9018]) \t 0\n",
            "2.)tensor([ 21.7227, -20.4557]) \t 1\n",
            "3.)tensor([ 1.8906, -2.0491]) \t 1\n",
            "4.)tensor([ 16.0731, -15.6407]) \t 1\n",
            "5.)tensor([-0.4720,  0.2916]) \t 0\n",
            "6.)tensor([ 2.9302, -2.5179]) \t 1\n",
            "7.)tensor([ 0.5663, -0.5586]) \t 0\n",
            "8.)tensor([ 10.5974, -10.6530]) \t 1\n",
            "9.)tensor([ 10.9620, -10.6013]) \t 0\n",
            "10.)tensor([-7.4255,  6.0526]) \t 0\n",
            "11.)tensor([ 2.4048, -2.2630]) \t 0\n",
            "12.)tensor([ 9.9930, -9.9430]) \t 0\n",
            "13.)tensor([ 12.0919, -11.3392]) \t 1\n",
            "14.)tensor([-5.4757,  5.6927]) \t 1\n",
            "15.)tensor([ 20.6376, -20.2326]) \t 0\n",
            "16.)tensor([ 12.4305, -11.6068]) \t 0\n",
            "17.)tensor([ 11.5186, -10.4268]) \t 0\n",
            "18.)tensor([ 6.4606, -6.1278]) \t 0\n",
            "19.)tensor([ 6.6295, -6.4111]) \t 0\n",
            "20.)tensor([ 7.7616, -8.5083]) \t 0\n",
            "21.)tensor([-19.2146,  19.0742]) \t 0\n",
            "22.)tensor([ 12.4723, -11.5260]) \t 0\n",
            "23.)tensor([-7.7258,  7.1622]) \t 1\n",
            "24.)tensor([ 0.1367, -0.2955]) \t 0\n",
            "25.)tensor([-29.4846,  29.1256]) \t 0\n",
            "26.)tensor([-0.6183,  0.7501]) \t 0\n",
            "27.)tensor([ 10.5276, -10.9880]) \t 0\n",
            "28.)tensor([ 0.9067, -0.4193]) \t 0\n",
            "29.)tensor([-9.0119,  8.4884]) \t 0\n",
            "30.)tensor([ 0.5273, -0.6527]) \t 0\n",
            "31.)tensor([ 0.1524, -0.1033]) \t 0\n",
            "32.)tensor([ 17.1564, -16.2986]) \t 0\n",
            "33.)tensor([ 12.7717, -14.0506]) \t 0\n",
            "34.)tensor([ 12.3268, -12.4012]) \t 0\n",
            "35.)tensor([ 11.0736, -10.7528]) \t 1\n",
            "36.)tensor([ 5.7890, -5.1985]) \t 0\n",
            "37.)tensor([ 7.8798, -7.8433]) \t 0\n",
            "38.)tensor([ 27.0175, -25.0966]) \t 0\n",
            "39.)tensor([ 1.7064, -1.6573]) \t 0\n",
            "40.)tensor([ 21.6893, -20.8334]) \t 0\n",
            "27\n",
            "Accuracy: 0.675\n"
          ]
        }
      ]
    }
  ]
}